{
 "cells": [
  {
   "cell_type": "markdown",
   "metadata": {},
   "source": [
    "# One Hot Encoding"
   ]
  },
  {
   "cell_type": "code",
   "execution_count": 2,
   "metadata": {},
   "outputs": [],
   "source": [
    "corpus = [\"i love nlp\", \" i teach gen ai \", \"i am working with euron\"]"
   ]
  },
  {
   "cell_type": "code",
   "execution_count": 9,
   "metadata": {},
   "outputs": [],
   "source": [
    "unique_words = list(set(\" \".join(corpus).split()))"
   ]
  },
  {
   "cell_type": "code",
   "execution_count": 11,
   "metadata": {},
   "outputs": [
    {
     "data": {
      "text/plain": [
       "['am', 'ai', 'i', 'gen', 'working', 'nlp', 'with', 'teach', 'love', 'euron']"
      ]
     },
     "execution_count": 11,
     "metadata": {},
     "output_type": "execute_result"
    }
   ],
   "source": [
    "unique_words"
   ]
  },
  {
   "cell_type": "code",
   "execution_count": 13,
   "metadata": {},
   "outputs": [
    {
     "name": "stdout",
     "output_type": "stream",
     "text": [
      "(0, 'am')\n",
      "(1, 'ai')\n",
      "(2, 'i')\n",
      "(3, 'gen')\n",
      "(4, 'working')\n",
      "(5, 'nlp')\n",
      "(6, 'with')\n",
      "(7, 'teach')\n",
      "(8, 'love')\n",
      "(9, 'euron')\n"
     ]
    }
   ],
   "source": [
    "for i in enumerate(unique_words):\n",
    "    print(i)"
   ]
  },
  {
   "cell_type": "code",
   "execution_count": 17,
   "metadata": {},
   "outputs": [],
   "source": [
    "word_to_index = {word:i for i, word in enumerate(unique_words)}"
   ]
  },
  {
   "cell_type": "code",
   "execution_count": 18,
   "metadata": {},
   "outputs": [
    {
     "data": {
      "text/plain": [
       "['am', 'ai', 'i', 'gen', 'working', 'nlp', 'with', 'teach', 'love', 'euron']"
      ]
     },
     "execution_count": 18,
     "metadata": {},
     "output_type": "execute_result"
    }
   ],
   "source": [
    "unique_words"
   ]
  },
  {
   "cell_type": "code",
   "execution_count": 19,
   "metadata": {},
   "outputs": [
    {
     "data": {
      "text/plain": [
       "{'am': 0,\n",
       " 'ai': 1,\n",
       " 'i': 2,\n",
       " 'gen': 3,\n",
       " 'working': 4,\n",
       " 'nlp': 5,\n",
       " 'with': 6,\n",
       " 'teach': 7,\n",
       " 'love': 8,\n",
       " 'euron': 9}"
      ]
     },
     "execution_count": 19,
     "metadata": {},
     "output_type": "execute_result"
    }
   ],
   "source": [
    "word_to_index"
   ]
  },
  {
   "cell_type": "code",
   "execution_count": null,
   "metadata": {},
   "outputs": [
    {
     "name": "stdout",
     "output_type": "stream",
     "text": [
      "i love nlp\n",
      "[0, 0, 0, 0, 0, 0, 0, 0, 0, 0]\n",
      "[0, 0, 0, 0, 0, 0, 0, 0, 0, 0]\n",
      "[0, 0, 0, 0, 0, 0, 0, 0, 0, 0]\n",
      " i teach gen ai \n",
      "[0, 0, 0, 0, 0, 0, 0, 0, 0, 0]\n",
      "[0, 0, 0, 0, 0, 0, 0, 0, 0, 0]\n",
      "[0, 0, 0, 0, 0, 0, 0, 0, 0, 0]\n",
      "[0, 0, 0, 0, 0, 0, 0, 0, 0, 0]\n",
      "i am working with euron\n",
      "[0, 0, 0, 0, 0, 0, 0, 0, 0, 0]\n",
      "[0, 0, 0, 0, 0, 0, 0, 0, 0, 0]\n",
      "[0, 0, 0, 0, 0, 0, 0, 0, 0, 0]\n",
      "[0, 0, 0, 0, 0, 0, 0, 0, 0, 0]\n",
      "[0, 0, 0, 0, 0, 0, 0, 0, 0, 0]\n"
     ]
    }
   ],
   "source": [
    "one_hot_vector = []\n",
    "for sentence in corpus:\n",
    "    print(sentence)\n",
    "    sentence_vector = []\n",
    "    for word in sentence.split():\n",
    "        vector = [0] * len(unique_words)    # sparse vector -> vector with 0\n",
    "        print(vector)\n",
    "        vector[word_to_index[word]] = 1\n",
    "        #print(word_to_index[word])\n",
    "        #print(vector[word_to_index[word]])\n",
    "        sentence_vector.append(vector)\n",
    "    one_hot_vector.append(sentence_vector)"
   ]
  },
  {
   "cell_type": "code",
   "execution_count": 28,
   "metadata": {},
   "outputs": [
    {
     "data": {
      "text/plain": [
       "[[[0, 0, 1, 0, 0, 0, 0, 0, 0, 0],\n",
       "  [0, 0, 0, 0, 0, 0, 0, 0, 1, 0],\n",
       "  [0, 0, 0, 0, 0, 1, 0, 0, 0, 0]],\n",
       " [[0, 0, 1, 0, 0, 0, 0, 0, 0, 0],\n",
       "  [0, 0, 0, 0, 0, 0, 0, 1, 0, 0],\n",
       "  [0, 0, 0, 1, 0, 0, 0, 0, 0, 0],\n",
       "  [0, 1, 0, 0, 0, 0, 0, 0, 0, 0]],\n",
       " [[0, 0, 1, 0, 0, 0, 0, 0, 0, 0],\n",
       "  [1, 0, 0, 0, 0, 0, 0, 0, 0, 0],\n",
       "  [0, 0, 0, 0, 1, 0, 0, 0, 0, 0],\n",
       "  [0, 0, 0, 0, 0, 0, 1, 0, 0, 0],\n",
       "  [0, 0, 0, 0, 0, 0, 0, 0, 0, 1]]]"
      ]
     },
     "execution_count": 28,
     "metadata": {},
     "output_type": "execute_result"
    }
   ],
   "source": [
    "one_hot_vector"
   ]
  },
  {
   "cell_type": "markdown",
   "metadata": {},
   "source": [
    "Disadvantates of One Hot Encoding - \n",
    "1. Lot of sparse data (lot of zero's)\n",
    "2. For small sentences also dimentional matrix could be huge, as number of columns would depend on unique set of words\n",
    "3. No contextual relation between different matrices generated\n",
    "\n",
    "One Hot Encoding - \n",
    "One Hot Encoding is called so because it represents categorical variables as binary vectors. Each category is converted into a vector where one element is \"hot\" (1) and all others are \"cold\" (0). This way, each category is uniquely identified without implying any ordinal relationship."
   ]
  },
  {
   "cell_type": "markdown",
   "metadata": {},
   "source": [
    "# Bag of Words (BoW) \n",
    "Frequency based encoding technique"
   ]
  },
  {
   "cell_type": "code",
   "execution_count": 35,
   "metadata": {},
   "outputs": [],
   "source": [
    "from sklearn.feature_extraction.text import CountVectorizer"
   ]
  },
  {
   "cell_type": "code",
   "execution_count": 59,
   "metadata": {},
   "outputs": [],
   "source": [
    "vectorizer = CountVectorizer(stop_words=None, lowercase=False, vocabulary=unique_words)"
   ]
  },
  {
   "cell_type": "code",
   "execution_count": null,
   "metadata": {},
   "outputs": [],
   "source": [
    "corpus = [\"i love nlp nlp\", \"love i nlp nlp\", \" i teach gen ai gen ai gen ai\", \"i am working with euron\"] \n",
    "# Note: \"i love nlp\" is same as \"love i nlp\" -> doesn't differentiate"
   ]
  },
  {
   "cell_type": "code",
   "execution_count": 74,
   "metadata": {},
   "outputs": [],
   "source": [
    "X = vectorizer.fit_transform(corpus)"
   ]
  },
  {
   "cell_type": "code",
   "execution_count": 75,
   "metadata": {},
   "outputs": [
    {
     "data": {
      "text/plain": [
       "['i love nlp nlp',\n",
       " 'love i nlp nlp',\n",
       " ' i teach gen ai gen ai gen ai',\n",
       " 'i am working with euron']"
      ]
     },
     "execution_count": 75,
     "metadata": {},
     "output_type": "execute_result"
    }
   ],
   "source": [
    "corpus"
   ]
  },
  {
   "cell_type": "code",
   "execution_count": 76,
   "metadata": {},
   "outputs": [
    {
     "data": {
      "text/plain": [
       "array([[0, 0, 0, 0, 0, 2, 0, 0, 1, 0],\n",
       "       [0, 0, 0, 0, 0, 2, 0, 0, 1, 0],\n",
       "       [0, 3, 0, 3, 0, 0, 0, 1, 0, 0],\n",
       "       [1, 0, 0, 0, 1, 0, 1, 0, 0, 1]])"
      ]
     },
     "execution_count": 76,
     "metadata": {},
     "output_type": "execute_result"
    }
   ],
   "source": [
    "X.toarray()"
   ]
  },
  {
   "cell_type": "code",
   "execution_count": 77,
   "metadata": {},
   "outputs": [
    {
     "data": {
      "text/plain": [
       "array(['am', 'ai', 'i', 'gen', 'working', 'nlp', 'with', 'teach', 'love',\n",
       "       'euron'], dtype=object)"
      ]
     },
     "execution_count": 77,
     "metadata": {},
     "output_type": "execute_result"
    }
   ],
   "source": [
    "# print all unique features it has considered\n",
    "vectorizer.get_feature_names_out()"
   ]
  },
  {
   "cell_type": "markdown",
   "metadata": {},
   "source": [
    "# TF - IDF \n",
    "Term Frequency - inverse document frequency"
   ]
  },
  {
   "cell_type": "code",
   "execution_count": null,
   "metadata": {},
   "outputs": [],
   "source": [
    "# TF = Number of times word appeared in a document / Total number of words in document \n",
    "# IDF = log (Total number of document / Number of document containing word) \n",
    "\n",
    "# TF-IDF = TF * IDF -> Represents numeric format of a word\n",
    "\n",
    "# Repeatative words has less impact than the unique words.. Creates Less Sparse\n",
    "# if frequency is more , impact is less"
   ]
  },
  {
   "cell_type": "code",
   "execution_count": 89,
   "metadata": {},
   "outputs": [
    {
     "data": {
      "text/plain": [
       "['i love nlp nlp', ' i teach gen ai gen ai gen ai', 'i am working with euron']"
      ]
     },
     "execution_count": 89,
     "metadata": {},
     "output_type": "execute_result"
    }
   ],
   "source": [
    "corpus = [\"i love nlp nlp\", \" i teach gen ai gen ai gen ai\", \"i am working with euron\"]\n",
    "corpus"
   ]
  },
  {
   "cell_type": "code",
   "execution_count": 84,
   "metadata": {},
   "outputs": [],
   "source": [
    "from sklearn.feature_extraction.text import TfidfVectorizer"
   ]
  },
  {
   "cell_type": "code",
   "execution_count": 85,
   "metadata": {},
   "outputs": [],
   "source": [
    "vect_tf_idf = TfidfVectorizer()"
   ]
  },
  {
   "cell_type": "code",
   "execution_count": 86,
   "metadata": {},
   "outputs": [],
   "source": [
    "X = vect_tf_idf.fit_transform(corpus)"
   ]
  },
  {
   "cell_type": "code",
   "execution_count": 87,
   "metadata": {},
   "outputs": [
    {
     "data": {
      "text/plain": [
       "array([[0.        , 0.        , 0.        , 0.        , 0.4472136 ,\n",
       "        0.89442719, 0.        , 0.        , 0.        ],\n",
       "       [0.6882472 , 0.        , 0.        , 0.6882472 , 0.        ,\n",
       "        0.        , 0.22941573, 0.        , 0.        ],\n",
       "       [0.        , 0.5       , 0.5       , 0.        , 0.        ,\n",
       "        0.        , 0.        , 0.5       , 0.5       ]])"
      ]
     },
     "execution_count": 87,
     "metadata": {},
     "output_type": "execute_result"
    }
   ],
   "source": [
    "X.toarray()"
   ]
  },
  {
   "cell_type": "markdown",
   "metadata": {},
   "source": [
    "### Advantage and Disadvatage of TF-IDF\n",
    "TF-IDF (Term Frequency-Inverse Document Frequency) has several advantages and disadvantages:\n",
    "\n",
    "Advantages:\n",
    "\n",
    "Simplicity: Easy to understand and implement.\n",
    "Effectiveness: Works well for text classification and information retrieval.\n",
    "Relevance: Highlights important words in documents by reducing the weight of common terms.\n",
    "\n",
    "Disadvantages:\n",
    "\n",
    "Sparsity: Can create high-dimensional sparse vectors, which may lead to inefficiencies.\n",
    "Context Ignorance: Does not consider word order or context, potentially losing semantic meaning.\n",
    "Static: Does not adapt to changes in language or context over time."
   ]
  }
 ],
 "metadata": {
  "kernelspec": {
   "display_name": "myenv",
   "language": "python",
   "name": "python3"
  },
  "language_info": {
   "codemirror_mode": {
    "name": "ipython",
    "version": 3
   },
   "file_extension": ".py",
   "mimetype": "text/x-python",
   "name": "python",
   "nbconvert_exporter": "python",
   "pygments_lexer": "ipython3",
   "version": "3.13.2"
  }
 },
 "nbformat": 4,
 "nbformat_minor": 2
}
