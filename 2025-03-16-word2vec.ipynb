{
 "cells": [
  {
   "cell_type": "markdown",
   "metadata": {},
   "source": [
    "# Word2Vec\n",
    "Word to Vector.\n",
    "Developed by Google around 2013 and it works based on neural network technique - with ability establish relationship between words, and able to generate next data or surrounding data based on existing words.\n",
    "\n",
    "2 techniques discussed under Word2Vec - \n",
    "- CBOW ~ Continuous Bag of Words. \"I am teaching .....\" (generate next words)\n",
    "    Always tries to generate the Target word based on the Context\n",
    "- Skip-Gram ~ \".....teaching.....\" (generate surrounding words)\n",
    "    Always tries to generate surrounding prediction\n",
    "\n",
    "CBOW vs Skip-Gram\n",
    "- CBOW      ~ Faster, Worst\n",
    "- Skip-Gram ~ Slower, Better"
   ]
  },
  {
   "cell_type": "code",
   "execution_count": 1,
   "metadata": {},
   "outputs": [],
   "source": [
    "import nltk\n",
    "import gensim\n",
    "import string\n",
    "import matplotlib.pyplot as plt\n",
    "import numpy as np\n",
    "import re\n",
    "\n",
    "from gensim.models import Word2Vec\n",
    "from nltk.tokenize import word_tokenize\n",
    "from nltk.corpus import stopwords"
   ]
  },
  {
   "cell_type": "code",
   "execution_count": 2,
   "metadata": {},
   "outputs": [
    {
     "name": "stderr",
     "output_type": "stream",
     "text": [
      "[nltk_data] Downloading package punkt to\n",
      "[nltk_data]     /Users/sameermeher/nltk_data...\n",
      "[nltk_data]   Package punkt is already up-to-date!\n",
      "[nltk_data] Downloading package stopwords to\n",
      "[nltk_data]     /Users/sameermeher/nltk_data...\n",
      "[nltk_data]   Package stopwords is already up-to-date!\n"
     ]
    },
    {
     "data": {
      "text/plain": [
       "True"
      ]
     },
     "execution_count": 2,
     "metadata": {},
     "output_type": "execute_result"
    }
   ],
   "source": [
    "nltk.download('punkt')\n",
    "nltk.download('stopwords')"
   ]
  },
  {
   "cell_type": "code",
   "execution_count": 3,
   "metadata": {},
   "outputs": [],
   "source": [
    "corpus_old = [\n",
    "    \"my name is Sameer Meher .\",\n",
    "    \"i use to teach all the data stack along with ops and cloud !\",\n",
    "    \"fsl dfdtegd  dfderedfdf  fdfd fd fer34 3 fdf dfdfdfdff #$#$#S 4343 ,\",\n",
    "    \"nlp is very veyr amazing\",\n",
    "    \"we are trying to learn word2vec,\",\n",
    "    \"we will try to build two models for word 2 vec cbow and skipgram\",\n",
    "    \"we will also work on cleanning the data whihc is basically a part of data preprocessing, \",\n",
    "    \"natual language processing is a part of AI ,\",\n",
    "    \"my phone number is 3434 3344 5443434\",\n",
    "    \"word 2 vec is being used for word embeddings \",\n",
    "    \"it is going to perform better than one hot , bow or TF-IDF\"\n",
    "]\n",
    "corpus =  [\n",
    "    \"AI-assisted legal research helps lawyers analyze case laws more efficiently.\",\n",
    "    \"AI is used in astronomy to analyze vast amounts of cosmic data.\",\n",
    "    \"Smart homes use AI for automation and energy efficiency.\",\n",
    "    \"AI is revolutionizing the way people search for information online.\",\n",
    "    \"AI-based handwriting recognition improves digitization and document processing.\",\n",
    "    \"The use of AI in wildlife conservation helps monitor endangered species.\",\n",
    "    \"AI is shaping the future of content creation in journalism and storytelling.\",\n",
    "    \"AI-driven job matching platforms help connect candidates with suitable employers.\",\n",
    "    \"The financial sector uses AI to assess credit risk and detect fraudulent transactions.\",\n",
    "    \"AI in manufacturing enhances efficiency and reduces production errors.\",\n",
    "    \"Wearable technology powered by AI helps monitor personal health metrics.\",\n",
    "    \"The role of AI in sports analytics improves team performance analysis.\",\n",
    "    \"AI is helping researchers discover new materials and chemical compounds.\",\n",
    "    \"AI in law enforcement aids in criminal investigations and predictive policing.\",\n",
    "    \"AI-driven autonomous ships are transforming maritime transportation.\",\n",
    "    \"AI-powered smart grids enhance energy distribution and consumption efficiency.\"  \n",
    "]"
   ]
  },
  {
   "cell_type": "code",
   "execution_count": 4,
   "metadata": {},
   "outputs": [
    {
     "data": {
      "text/plain": [
       "'my name is sameer meher 454 454  .#$'"
      ]
     },
     "execution_count": 4,
     "metadata": {},
     "output_type": "execute_result"
    }
   ],
   "source": [
    "s = \"my name is Sameer meher 454 454  .#$\"\n",
    "s.lower()"
   ]
  },
  {
   "cell_type": "code",
   "execution_count": 5,
   "metadata": {},
   "outputs": [
    {
     "data": {
      "text/plain": [
       "'my name is Sameer meher    .#$'"
      ]
     },
     "execution_count": 5,
     "metadata": {},
     "output_type": "execute_result"
    }
   ],
   "source": [
    "re.sub(r'\\d+',\"\",s)"
   ]
  },
  {
   "cell_type": "code",
   "execution_count": 6,
   "metadata": {},
   "outputs": [
    {
     "data": {
      "text/plain": [
       "'!\"#$%&\\'()*+,-./:;<=>?@[\\\\]^_`{|}~'"
      ]
     },
     "execution_count": 6,
     "metadata": {},
     "output_type": "execute_result"
    }
   ],
   "source": [
    "string.punctuation"
   ]
  },
  {
   "cell_type": "code",
   "execution_count": 7,
   "metadata": {},
   "outputs": [
    {
     "data": {
      "text/plain": [
       "'my name is Sameer meher 454 454  '"
      ]
     },
     "execution_count": 7,
     "metadata": {},
     "output_type": "execute_result"
    }
   ],
   "source": [
    "# Remove all punctuation from the string\n",
    "s.translate(str.maketrans(\"\",\"\",string.punctuation))"
   ]
  },
  {
   "cell_type": "code",
   "execution_count": 8,
   "metadata": {},
   "outputs": [
    {
     "data": {
      "text/plain": [
       "['my', 'name', 'is', 'Sameer', 'meher', '454', '454', '.', '#', '$']"
      ]
     },
     "execution_count": 8,
     "metadata": {},
     "output_type": "execute_result"
    }
   ],
   "source": [
    "word_tokenize(s)"
   ]
  },
  {
   "cell_type": "code",
   "execution_count": 9,
   "metadata": {},
   "outputs": [],
   "source": [
    "s1 = ['my', 'name', 'is', 'Sameer', 'meher', '454', '454', '.', '#', '$']"
   ]
  },
  {
   "cell_type": "code",
   "execution_count": 10,
   "metadata": {},
   "outputs": [
    {
     "data": {
      "text/plain": [
       "['name', 'Sameer', 'meher', '454', '454', '.', '#', '$']"
      ]
     },
     "execution_count": 10,
     "metadata": {},
     "output_type": "execute_result"
    }
   ],
   "source": [
    "[i for i in s1 if i not in stopwords.words('english')]"
   ]
  },
  {
   "cell_type": "code",
   "execution_count": 11,
   "metadata": {},
   "outputs": [],
   "source": [
    "# Function which includes above discussed individual data processing logic\n",
    "def word_preprocessing(text):\n",
    "    text = text.lower()\n",
    "    text = re.sub(r'\\d+',\"\",text)\n",
    "    text = text.translate(str.maketrans(\"\",\"\",string.punctuation))\n",
    "    word = word_tokenize(text)\n",
    "    word = [i for i in word if i not in stopwords.words('english')]\n",
    "    return word"
   ]
  },
  {
   "cell_type": "code",
   "execution_count": 12,
   "metadata": {},
   "outputs": [
    {
     "data": {
      "text/plain": [
       "['AI-assisted legal research helps lawyers analyze case laws more efficiently.',\n",
       " 'AI is used in astronomy to analyze vast amounts of cosmic data.',\n",
       " 'Smart homes use AI for automation and energy efficiency.',\n",
       " 'AI is revolutionizing the way people search for information online.',\n",
       " 'AI-based handwriting recognition improves digitization and document processing.',\n",
       " 'The use of AI in wildlife conservation helps monitor endangered species.',\n",
       " 'AI is shaping the future of content creation in journalism and storytelling.',\n",
       " 'AI-driven job matching platforms help connect candidates with suitable employers.',\n",
       " 'The financial sector uses AI to assess credit risk and detect fraudulent transactions.',\n",
       " 'AI in manufacturing enhances efficiency and reduces production errors.',\n",
       " 'Wearable technology powered by AI helps monitor personal health metrics.',\n",
       " 'The role of AI in sports analytics improves team performance analysis.',\n",
       " 'AI is helping researchers discover new materials and chemical compounds.',\n",
       " 'AI in law enforcement aids in criminal investigations and predictive policing.',\n",
       " 'AI-driven autonomous ships are transforming maritime transportation.',\n",
       " 'AI-powered smart grids enhance energy distribution and consumption efficiency.']"
      ]
     },
     "execution_count": 12,
     "metadata": {},
     "output_type": "execute_result"
    }
   ],
   "source": [
    "corpus"
   ]
  },
  {
   "cell_type": "code",
   "execution_count": 13,
   "metadata": {},
   "outputs": [],
   "source": [
    "processed_corpus = [word_preprocessing(sentence) for sentence in corpus]"
   ]
  },
  {
   "cell_type": "code",
   "execution_count": 50,
   "metadata": {},
   "outputs": [
    {
     "data": {
      "text/plain": [
       "[['aiassisted',\n",
       "  'legal',\n",
       "  'research',\n",
       "  'helps',\n",
       "  'lawyers',\n",
       "  'analyze',\n",
       "  'case',\n",
       "  'laws',\n",
       "  'efficiently'],\n",
       " ['ai', 'used', 'astronomy', 'analyze', 'vast', 'amounts', 'cosmic', 'data'],\n",
       " ['smart', 'homes', 'use', 'ai', 'automation', 'energy', 'efficiency'],\n",
       " ['ai', 'revolutionizing', 'way', 'people', 'search', 'information', 'online'],\n",
       " ['aibased',\n",
       "  'handwriting',\n",
       "  'recognition',\n",
       "  'improves',\n",
       "  'digitization',\n",
       "  'document',\n",
       "  'processing'],\n",
       " ['use',\n",
       "  'ai',\n",
       "  'wildlife',\n",
       "  'conservation',\n",
       "  'helps',\n",
       "  'monitor',\n",
       "  'endangered',\n",
       "  'species'],\n",
       " ['ai',\n",
       "  'shaping',\n",
       "  'future',\n",
       "  'content',\n",
       "  'creation',\n",
       "  'journalism',\n",
       "  'storytelling'],\n",
       " ['aidriven',\n",
       "  'job',\n",
       "  'matching',\n",
       "  'platforms',\n",
       "  'help',\n",
       "  'connect',\n",
       "  'candidates',\n",
       "  'suitable',\n",
       "  'employers'],\n",
       " ['financial',\n",
       "  'sector',\n",
       "  'uses',\n",
       "  'ai',\n",
       "  'assess',\n",
       "  'credit',\n",
       "  'risk',\n",
       "  'detect',\n",
       "  'fraudulent',\n",
       "  'transactions'],\n",
       " ['ai',\n",
       "  'manufacturing',\n",
       "  'enhances',\n",
       "  'efficiency',\n",
       "  'reduces',\n",
       "  'production',\n",
       "  'errors'],\n",
       " ['wearable',\n",
       "  'technology',\n",
       "  'powered',\n",
       "  'ai',\n",
       "  'helps',\n",
       "  'monitor',\n",
       "  'personal',\n",
       "  'health',\n",
       "  'metrics'],\n",
       " ['role',\n",
       "  'ai',\n",
       "  'sports',\n",
       "  'analytics',\n",
       "  'improves',\n",
       "  'team',\n",
       "  'performance',\n",
       "  'analysis'],\n",
       " ['ai',\n",
       "  'helping',\n",
       "  'researchers',\n",
       "  'discover',\n",
       "  'new',\n",
       "  'materials',\n",
       "  'chemical',\n",
       "  'compounds'],\n",
       " ['ai',\n",
       "  'law',\n",
       "  'enforcement',\n",
       "  'aids',\n",
       "  'criminal',\n",
       "  'investigations',\n",
       "  'predictive',\n",
       "  'policing'],\n",
       " ['aidriven',\n",
       "  'autonomous',\n",
       "  'ships',\n",
       "  'transforming',\n",
       "  'maritime',\n",
       "  'transportation'],\n",
       " ['aipowered',\n",
       "  'smart',\n",
       "  'grids',\n",
       "  'enhance',\n",
       "  'energy',\n",
       "  'distribution',\n",
       "  'consumption',\n",
       "  'efficiency']]"
      ]
     },
     "execution_count": 50,
     "metadata": {},
     "output_type": "execute_result"
    }
   ],
   "source": [
    "processed_corpus"
   ]
  },
  {
   "cell_type": "code",
   "execution_count": 14,
   "metadata": {},
   "outputs": [],
   "source": [
    "# In Word2Vec, CBOW and Skip-Gram model is defined based on sg attribute's value\n",
    "# window = number of words to build semantic context\n",
    "# min_count = min appearance of a word in entire corpus to consider in the model\n",
    "word2vec_cbow = Word2Vec(sentences=processed_corpus, vector_size=100, window=10, min_count=1, sg=0)\n",
    "word2vec_skipgram = Word2Vec(sentences=processed_corpus, vector_size=100, window=10, min_count=1, sg=1)"
   ]
  },
  {
   "cell_type": "code",
   "execution_count": 15,
   "metadata": {},
   "outputs": [
    {
     "data": {
      "text/plain": [
       "<gensim.models.word2vec.Word2Vec at 0x17e944e90>"
      ]
     },
     "execution_count": 15,
     "metadata": {},
     "output_type": "execute_result"
    }
   ],
   "source": [
    "word2vec_cbow"
   ]
  },
  {
   "cell_type": "code",
   "execution_count": 16,
   "metadata": {},
   "outputs": [
    {
     "data": {
      "text/plain": [
       "<gensim.models.word2vec.Word2Vec at 0x1671ebb10>"
      ]
     },
     "execution_count": 16,
     "metadata": {},
     "output_type": "execute_result"
    }
   ],
   "source": [
    "word2vec_skipgram"
   ]
  },
  {
   "cell_type": "code",
   "execution_count": 54,
   "metadata": {},
   "outputs": [],
   "source": [
    "#word2vec_skipgram.wv['sameer']"
   ]
  },
  {
   "cell_type": "code",
   "execution_count": 17,
   "metadata": {},
   "outputs": [
    {
     "data": {
      "text/plain": [
       "100"
      ]
     },
     "execution_count": 17,
     "metadata": {},
     "output_type": "execute_result"
    }
   ],
   "source": [
    "word2vec_skipgram.vector_size"
   ]
  },
  {
   "cell_type": "code",
   "execution_count": 56,
   "metadata": {},
   "outputs": [],
   "source": [
    "#word2vec_skipgram.wv.most_similar('sameer')\n",
    "#word2vec_skipgram.wv.most_similar('sameer', topn=3)"
   ]
  },
  {
   "cell_type": "code",
   "execution_count": 18,
   "metadata": {},
   "outputs": [
    {
     "data": {
      "text/plain": [
       "array([ 0.0025694 ,  0.00086814, -0.00253538,  0.00935145,  0.00277216,\n",
       "        0.00407192, -0.00117284,  0.00093328,  0.00659654, -0.00072911,\n",
       "        0.00332085, -0.00069396,  0.00525548,  0.00363544,  0.00260932,\n",
       "       -0.00532958, -0.00471506,  0.00430543, -0.00592173, -0.00022694,\n",
       "       -0.00061653,  0.00349254, -0.00842036,  0.00879676, -0.0014565 ,\n",
       "       -0.00533022,  0.0040424 , -0.00194418, -0.00776252, -0.00451031,\n",
       "       -0.00037051, -0.00894682,  0.00058355,  0.00242383, -0.00323316,\n",
       "        0.00257961,  0.00248091,  0.00997803,  0.00142129,  0.00199003,\n",
       "        0.00278712, -0.00209581, -0.00868577,  0.00803419, -0.00196289,\n",
       "       -0.00971007, -0.00657763, -0.00396758,  0.00397245,  0.00503155,\n",
       "        0.00609086, -0.00678777,  0.0006997 , -0.00277426, -0.00521239,\n",
       "        0.00698893,  0.00395114, -0.00310657, -0.0082649 , -0.00514317,\n",
       "       -0.00062852,  0.00781063,  0.00605931, -0.00844909, -0.00957045,\n",
       "        0.00717346, -0.00232539, -0.00366038,  0.00571864, -0.00582372,\n",
       "        0.00505741, -0.00023212, -0.00686344, -0.00031802,  0.00636885,\n",
       "        0.00930486,  0.00222262,  0.00506509, -0.00499291, -0.00080484,\n",
       "       -0.00533556,  0.00119169, -0.00182522, -0.00361648, -0.00701034,\n",
       "        0.00965582,  0.00300106, -0.00227246, -0.00417777,  0.00771824,\n",
       "       -0.00646083,  0.00312773,  0.00077562,  0.00831821,  0.00687284,\n",
       "       -0.00289636,  0.00254277, -0.00166296, -0.0094522 , -0.00263371],\n",
       "      dtype=float32)"
      ]
     },
     "execution_count": 18,
     "metadata": {},
     "output_type": "execute_result"
    }
   ],
   "source": [
    "word2vec_cbow.wv['future']"
   ]
  },
  {
   "cell_type": "code",
   "execution_count": 19,
   "metadata": {},
   "outputs": [
    {
     "data": {
      "text/plain": [
       "0.08436449"
      ]
     },
     "execution_count": 19,
     "metadata": {},
     "output_type": "execute_result"
    }
   ],
   "source": [
    "word2vec_cbow.wv.similarity(\"future\", \"ai\")"
   ]
  },
  {
   "cell_type": "code",
   "execution_count": 20,
   "metadata": {},
   "outputs": [
    {
     "data": {
      "text/plain": [
       "['ai',\n",
       " 'helps',\n",
       " 'efficiency',\n",
       " 'smart',\n",
       " 'improves',\n",
       " 'analyze',\n",
       " 'aidriven',\n",
       " 'energy',\n",
       " 'use',\n",
       " 'monitor',\n",
       " 'consumption',\n",
       " 'digitization',\n",
       " 'document',\n",
       " 'processing',\n",
       " 'wildlife',\n",
       " 'conservation',\n",
       " 'shaping',\n",
       " 'endangered',\n",
       " 'species',\n",
       " 'handwriting',\n",
       " 'future',\n",
       " 'content',\n",
       " 'creation',\n",
       " 'journalism',\n",
       " 'storytelling',\n",
       " 'job',\n",
       " 'matching',\n",
       " 'platforms',\n",
       " 'recognition',\n",
       " 'search',\n",
       " 'aibased',\n",
       " 'online',\n",
       " 'legal',\n",
       " 'research',\n",
       " 'lawyers',\n",
       " 'case',\n",
       " 'laws',\n",
       " 'efficiently',\n",
       " 'used',\n",
       " 'astronomy',\n",
       " 'vast',\n",
       " 'amounts',\n",
       " 'cosmic',\n",
       " 'data',\n",
       " 'homes',\n",
       " 'automation',\n",
       " 'revolutionizing',\n",
       " 'way',\n",
       " 'people',\n",
       " 'connect',\n",
       " 'information',\n",
       " 'help',\n",
       " 'candidates',\n",
       " 'distribution',\n",
       " 'suitable',\n",
       " 'analysis',\n",
       " 'helping',\n",
       " 'researchers',\n",
       " 'discover',\n",
       " 'new',\n",
       " 'materials',\n",
       " 'chemical',\n",
       " 'compounds',\n",
       " 'law',\n",
       " 'enforcement',\n",
       " 'aids',\n",
       " 'criminal',\n",
       " 'investigations',\n",
       " 'predictive',\n",
       " 'policing',\n",
       " 'autonomous',\n",
       " 'ships',\n",
       " 'transforming',\n",
       " 'maritime',\n",
       " 'transportation',\n",
       " 'aipowered',\n",
       " 'grids',\n",
       " 'enhance',\n",
       " 'performance',\n",
       " 'team',\n",
       " 'analytics',\n",
       " 'manufacturing',\n",
       " 'employers',\n",
       " 'financial',\n",
       " 'sector',\n",
       " 'uses',\n",
       " 'assess',\n",
       " 'credit',\n",
       " 'risk',\n",
       " 'detect',\n",
       " 'fraudulent',\n",
       " 'transactions',\n",
       " 'enhances',\n",
       " 'sports',\n",
       " 'reduces',\n",
       " 'production',\n",
       " 'errors',\n",
       " 'wearable',\n",
       " 'technology',\n",
       " 'powered',\n",
       " 'personal',\n",
       " 'health',\n",
       " 'metrics',\n",
       " 'role',\n",
       " 'aiassisted']"
      ]
     },
     "execution_count": 20,
     "metadata": {},
     "output_type": "execute_result"
    }
   ],
   "source": [
    "word2vec_cbow.wv.index_to_key"
   ]
  },
  {
   "cell_type": "code",
   "execution_count": 21,
   "metadata": {},
   "outputs": [
    {
     "data": {
      "text/plain": [
       "[('performance', 0.2302529513835907),\n",
       " ('analysis', 0.20067884027957916),\n",
       " ('wearable', 0.18686209619045258),\n",
       " ('helps', 0.1835632622241974),\n",
       " ('endangered', 0.18249782919883728)]"
      ]
     },
     "execution_count": 21,
     "metadata": {},
     "output_type": "execute_result"
    }
   ],
   "source": [
    "word2vec_cbow.wv.most_similar(\"metrics\", topn=5)"
   ]
  },
  {
   "cell_type": "code",
   "execution_count": 22,
   "metadata": {},
   "outputs": [
    {
     "data": {
      "text/plain": [
       "[('performance', 0.23073358833789825),\n",
       " ('analysis', 0.20149028301239014),\n",
       " ('wearable', 0.1884567141532898),\n",
       " ('endangered', 0.18396562337875366),\n",
       " ('helps', 0.1837005913257599)]"
      ]
     },
     "execution_count": 22,
     "metadata": {},
     "output_type": "execute_result"
    }
   ],
   "source": [
    "word2vec_skipgram.wv.most_similar(\"metrics\", topn=5)"
   ]
  },
  {
   "cell_type": "code",
   "execution_count": 23,
   "metadata": {},
   "outputs": [
    {
     "data": {
      "text/plain": [
       "['AI-assisted legal research helps lawyers analyze case laws more efficiently.',\n",
       " 'AI is used in astronomy to analyze vast amounts of cosmic data.',\n",
       " 'Smart homes use AI for automation and energy efficiency.',\n",
       " 'AI is revolutionizing the way people search for information online.',\n",
       " 'AI-based handwriting recognition improves digitization and document processing.',\n",
       " 'The use of AI in wildlife conservation helps monitor endangered species.',\n",
       " 'AI is shaping the future of content creation in journalism and storytelling.',\n",
       " 'AI-driven job matching platforms help connect candidates with suitable employers.',\n",
       " 'The financial sector uses AI to assess credit risk and detect fraudulent transactions.',\n",
       " 'AI in manufacturing enhances efficiency and reduces production errors.',\n",
       " 'Wearable technology powered by AI helps monitor personal health metrics.',\n",
       " 'The role of AI in sports analytics improves team performance analysis.',\n",
       " 'AI is helping researchers discover new materials and chemical compounds.',\n",
       " 'AI in law enforcement aids in criminal investigations and predictive policing.',\n",
       " 'AI-driven autonomous ships are transforming maritime transportation.',\n",
       " 'AI-powered smart grids enhance energy distribution and consumption efficiency.']"
      ]
     },
     "execution_count": 23,
     "metadata": {},
     "output_type": "execute_result"
    }
   ],
   "source": [
    "corpus"
   ]
  },
  {
   "cell_type": "code",
   "execution_count": null,
   "metadata": {},
   "outputs": [],
   "source": [
    "# TSNE is used for dimentional reduction. As we have 100 dimention, we are trying reduce it to represent in 2-D graph.\n",
    "# Its a algorithm to reduce the dimention\n",
    "from sklearn.manifold import TSNE\n",
    "import numpy as np\n",
    "import matplotlib.pyplot as plt"
   ]
  },
  {
   "cell_type": "code",
   "execution_count": null,
   "metadata": {},
   "outputs": [
    {
     "data": {
      "text/plain": [
       "<gensim.models.keyedvectors.KeyedVectors at 0x166c9c690>"
      ]
     },
     "execution_count": 30,
     "metadata": {},
     "output_type": "execute_result"
    }
   ],
   "source": [
    "word_vectors = word2vec_cbow.wv\n",
    "vocab = word_vectors.index_to_key\n",
    "vocab"
   ]
  },
  {
   "cell_type": "code",
   "execution_count": 29,
   "metadata": {},
   "outputs": [
    {
     "data": {
      "text/plain": [
       "105"
      ]
     },
     "execution_count": 29,
     "metadata": {},
     "output_type": "execute_result"
    }
   ],
   "source": [
    "len(vocab)"
   ]
  },
  {
   "cell_type": "code",
   "execution_count": 34,
   "metadata": {},
   "outputs": [
    {
     "data": {
      "text/plain": [
       "array([[-5.4276100e-04,  2.4618677e-04,  5.0967308e-03, ...,\n",
       "        -7.0473179e-03,  9.0715126e-04,  6.3750008e-03],\n",
       "       [-8.6157192e-03,  3.6730836e-03,  5.1916884e-03, ...,\n",
       "        -2.3870117e-03, -9.5079523e-03,  4.5010815e-03],\n",
       "       [ 9.2472197e-05,  3.0924003e-03, -6.8121427e-03, ...,\n",
       "         5.0946942e-04,  8.2176039e-03, -7.0371800e-03],\n",
       "       ...,\n",
       "       [-5.7884684e-04,  4.0417174e-03,  3.0398709e-03, ...,\n",
       "        -1.1289567e-03,  6.4924452e-03,  8.4836537e-04],\n",
       "       [ 6.1692162e-03, -2.0220221e-03,  6.2556961e-03, ...,\n",
       "        -1.2191196e-03,  9.8671513e-03,  3.6629124e-03],\n",
       "       [ 4.3461835e-03,  6.8936404e-03,  9.0464606e-04, ...,\n",
       "         8.8014128e-03,  1.7094418e-03, -3.3736089e-03]], dtype=float32)"
      ]
     },
     "execution_count": 34,
     "metadata": {},
     "output_type": "execute_result"
    }
   ],
   "source": [
    "x = np.array([word_vectors[i] for i in vocab])\n",
    "x"
   ]
  },
  {
   "cell_type": "code",
   "execution_count": null,
   "metadata": {},
   "outputs": [
    {
     "data": {
      "text/html": [
       "<style>#sk-container-id-4 {\n",
       "  /* Definition of color scheme common for light and dark mode */\n",
       "  --sklearn-color-text: #000;\n",
       "  --sklearn-color-text-muted: #666;\n",
       "  --sklearn-color-line: gray;\n",
       "  /* Definition of color scheme for unfitted estimators */\n",
       "  --sklearn-color-unfitted-level-0: #fff5e6;\n",
       "  --sklearn-color-unfitted-level-1: #f6e4d2;\n",
       "  --sklearn-color-unfitted-level-2: #ffe0b3;\n",
       "  --sklearn-color-unfitted-level-3: chocolate;\n",
       "  /* Definition of color scheme for fitted estimators */\n",
       "  --sklearn-color-fitted-level-0: #f0f8ff;\n",
       "  --sklearn-color-fitted-level-1: #d4ebff;\n",
       "  --sklearn-color-fitted-level-2: #b3dbfd;\n",
       "  --sklearn-color-fitted-level-3: cornflowerblue;\n",
       "\n",
       "  /* Specific color for light theme */\n",
       "  --sklearn-color-text-on-default-background: var(--sg-text-color, var(--theme-code-foreground, var(--jp-content-font-color1, black)));\n",
       "  --sklearn-color-background: var(--sg-background-color, var(--theme-background, var(--jp-layout-color0, white)));\n",
       "  --sklearn-color-border-box: var(--sg-text-color, var(--theme-code-foreground, var(--jp-content-font-color1, black)));\n",
       "  --sklearn-color-icon: #696969;\n",
       "\n",
       "  @media (prefers-color-scheme: dark) {\n",
       "    /* Redefinition of color scheme for dark theme */\n",
       "    --sklearn-color-text-on-default-background: var(--sg-text-color, var(--theme-code-foreground, var(--jp-content-font-color1, white)));\n",
       "    --sklearn-color-background: var(--sg-background-color, var(--theme-background, var(--jp-layout-color0, #111)));\n",
       "    --sklearn-color-border-box: var(--sg-text-color, var(--theme-code-foreground, var(--jp-content-font-color1, white)));\n",
       "    --sklearn-color-icon: #878787;\n",
       "  }\n",
       "}\n",
       "\n",
       "#sk-container-id-4 {\n",
       "  color: var(--sklearn-color-text);\n",
       "}\n",
       "\n",
       "#sk-container-id-4 pre {\n",
       "  padding: 0;\n",
       "}\n",
       "\n",
       "#sk-container-id-4 input.sk-hidden--visually {\n",
       "  border: 0;\n",
       "  clip: rect(1px 1px 1px 1px);\n",
       "  clip: rect(1px, 1px, 1px, 1px);\n",
       "  height: 1px;\n",
       "  margin: -1px;\n",
       "  overflow: hidden;\n",
       "  padding: 0;\n",
       "  position: absolute;\n",
       "  width: 1px;\n",
       "}\n",
       "\n",
       "#sk-container-id-4 div.sk-dashed-wrapped {\n",
       "  border: 1px dashed var(--sklearn-color-line);\n",
       "  margin: 0 0.4em 0.5em 0.4em;\n",
       "  box-sizing: border-box;\n",
       "  padding-bottom: 0.4em;\n",
       "  background-color: var(--sklearn-color-background);\n",
       "}\n",
       "\n",
       "#sk-container-id-4 div.sk-container {\n",
       "  /* jupyter's `normalize.less` sets `[hidden] { display: none; }`\n",
       "     but bootstrap.min.css set `[hidden] { display: none !important; }`\n",
       "     so we also need the `!important` here to be able to override the\n",
       "     default hidden behavior on the sphinx rendered scikit-learn.org.\n",
       "     See: https://github.com/scikit-learn/scikit-learn/issues/21755 */\n",
       "  display: inline-block !important;\n",
       "  position: relative;\n",
       "}\n",
       "\n",
       "#sk-container-id-4 div.sk-text-repr-fallback {\n",
       "  display: none;\n",
       "}\n",
       "\n",
       "div.sk-parallel-item,\n",
       "div.sk-serial,\n",
       "div.sk-item {\n",
       "  /* draw centered vertical line to link estimators */\n",
       "  background-image: linear-gradient(var(--sklearn-color-text-on-default-background), var(--sklearn-color-text-on-default-background));\n",
       "  background-size: 2px 100%;\n",
       "  background-repeat: no-repeat;\n",
       "  background-position: center center;\n",
       "}\n",
       "\n",
       "/* Parallel-specific style estimator block */\n",
       "\n",
       "#sk-container-id-4 div.sk-parallel-item::after {\n",
       "  content: \"\";\n",
       "  width: 100%;\n",
       "  border-bottom: 2px solid var(--sklearn-color-text-on-default-background);\n",
       "  flex-grow: 1;\n",
       "}\n",
       "\n",
       "#sk-container-id-4 div.sk-parallel {\n",
       "  display: flex;\n",
       "  align-items: stretch;\n",
       "  justify-content: center;\n",
       "  background-color: var(--sklearn-color-background);\n",
       "  position: relative;\n",
       "}\n",
       "\n",
       "#sk-container-id-4 div.sk-parallel-item {\n",
       "  display: flex;\n",
       "  flex-direction: column;\n",
       "}\n",
       "\n",
       "#sk-container-id-4 div.sk-parallel-item:first-child::after {\n",
       "  align-self: flex-end;\n",
       "  width: 50%;\n",
       "}\n",
       "\n",
       "#sk-container-id-4 div.sk-parallel-item:last-child::after {\n",
       "  align-self: flex-start;\n",
       "  width: 50%;\n",
       "}\n",
       "\n",
       "#sk-container-id-4 div.sk-parallel-item:only-child::after {\n",
       "  width: 0;\n",
       "}\n",
       "\n",
       "/* Serial-specific style estimator block */\n",
       "\n",
       "#sk-container-id-4 div.sk-serial {\n",
       "  display: flex;\n",
       "  flex-direction: column;\n",
       "  align-items: center;\n",
       "  background-color: var(--sklearn-color-background);\n",
       "  padding-right: 1em;\n",
       "  padding-left: 1em;\n",
       "}\n",
       "\n",
       "\n",
       "/* Toggleable style: style used for estimator/Pipeline/ColumnTransformer box that is\n",
       "clickable and can be expanded/collapsed.\n",
       "- Pipeline and ColumnTransformer use this feature and define the default style\n",
       "- Estimators will overwrite some part of the style using the `sk-estimator` class\n",
       "*/\n",
       "\n",
       "/* Pipeline and ColumnTransformer style (default) */\n",
       "\n",
       "#sk-container-id-4 div.sk-toggleable {\n",
       "  /* Default theme specific background. It is overwritten whether we have a\n",
       "  specific estimator or a Pipeline/ColumnTransformer */\n",
       "  background-color: var(--sklearn-color-background);\n",
       "}\n",
       "\n",
       "/* Toggleable label */\n",
       "#sk-container-id-4 label.sk-toggleable__label {\n",
       "  cursor: pointer;\n",
       "  display: flex;\n",
       "  width: 100%;\n",
       "  margin-bottom: 0;\n",
       "  padding: 0.5em;\n",
       "  box-sizing: border-box;\n",
       "  text-align: center;\n",
       "  align-items: start;\n",
       "  justify-content: space-between;\n",
       "  gap: 0.5em;\n",
       "}\n",
       "\n",
       "#sk-container-id-4 label.sk-toggleable__label .caption {\n",
       "  font-size: 0.6rem;\n",
       "  font-weight: lighter;\n",
       "  color: var(--sklearn-color-text-muted);\n",
       "}\n",
       "\n",
       "#sk-container-id-4 label.sk-toggleable__label-arrow:before {\n",
       "  /* Arrow on the left of the label */\n",
       "  content: \"▸\";\n",
       "  float: left;\n",
       "  margin-right: 0.25em;\n",
       "  color: var(--sklearn-color-icon);\n",
       "}\n",
       "\n",
       "#sk-container-id-4 label.sk-toggleable__label-arrow:hover:before {\n",
       "  color: var(--sklearn-color-text);\n",
       "}\n",
       "\n",
       "/* Toggleable content - dropdown */\n",
       "\n",
       "#sk-container-id-4 div.sk-toggleable__content {\n",
       "  max-height: 0;\n",
       "  max-width: 0;\n",
       "  overflow: hidden;\n",
       "  text-align: left;\n",
       "  /* unfitted */\n",
       "  background-color: var(--sklearn-color-unfitted-level-0);\n",
       "}\n",
       "\n",
       "#sk-container-id-4 div.sk-toggleable__content.fitted {\n",
       "  /* fitted */\n",
       "  background-color: var(--sklearn-color-fitted-level-0);\n",
       "}\n",
       "\n",
       "#sk-container-id-4 div.sk-toggleable__content pre {\n",
       "  margin: 0.2em;\n",
       "  border-radius: 0.25em;\n",
       "  color: var(--sklearn-color-text);\n",
       "  /* unfitted */\n",
       "  background-color: var(--sklearn-color-unfitted-level-0);\n",
       "}\n",
       "\n",
       "#sk-container-id-4 div.sk-toggleable__content.fitted pre {\n",
       "  /* unfitted */\n",
       "  background-color: var(--sklearn-color-fitted-level-0);\n",
       "}\n",
       "\n",
       "#sk-container-id-4 input.sk-toggleable__control:checked~div.sk-toggleable__content {\n",
       "  /* Expand drop-down */\n",
       "  max-height: 200px;\n",
       "  max-width: 100%;\n",
       "  overflow: auto;\n",
       "}\n",
       "\n",
       "#sk-container-id-4 input.sk-toggleable__control:checked~label.sk-toggleable__label-arrow:before {\n",
       "  content: \"▾\";\n",
       "}\n",
       "\n",
       "/* Pipeline/ColumnTransformer-specific style */\n",
       "\n",
       "#sk-container-id-4 div.sk-label input.sk-toggleable__control:checked~label.sk-toggleable__label {\n",
       "  color: var(--sklearn-color-text);\n",
       "  background-color: var(--sklearn-color-unfitted-level-2);\n",
       "}\n",
       "\n",
       "#sk-container-id-4 div.sk-label.fitted input.sk-toggleable__control:checked~label.sk-toggleable__label {\n",
       "  background-color: var(--sklearn-color-fitted-level-2);\n",
       "}\n",
       "\n",
       "/* Estimator-specific style */\n",
       "\n",
       "/* Colorize estimator box */\n",
       "#sk-container-id-4 div.sk-estimator input.sk-toggleable__control:checked~label.sk-toggleable__label {\n",
       "  /* unfitted */\n",
       "  background-color: var(--sklearn-color-unfitted-level-2);\n",
       "}\n",
       "\n",
       "#sk-container-id-4 div.sk-estimator.fitted input.sk-toggleable__control:checked~label.sk-toggleable__label {\n",
       "  /* fitted */\n",
       "  background-color: var(--sklearn-color-fitted-level-2);\n",
       "}\n",
       "\n",
       "#sk-container-id-4 div.sk-label label.sk-toggleable__label,\n",
       "#sk-container-id-4 div.sk-label label {\n",
       "  /* The background is the default theme color */\n",
       "  color: var(--sklearn-color-text-on-default-background);\n",
       "}\n",
       "\n",
       "/* On hover, darken the color of the background */\n",
       "#sk-container-id-4 div.sk-label:hover label.sk-toggleable__label {\n",
       "  color: var(--sklearn-color-text);\n",
       "  background-color: var(--sklearn-color-unfitted-level-2);\n",
       "}\n",
       "\n",
       "/* Label box, darken color on hover, fitted */\n",
       "#sk-container-id-4 div.sk-label.fitted:hover label.sk-toggleable__label.fitted {\n",
       "  color: var(--sklearn-color-text);\n",
       "  background-color: var(--sklearn-color-fitted-level-2);\n",
       "}\n",
       "\n",
       "/* Estimator label */\n",
       "\n",
       "#sk-container-id-4 div.sk-label label {\n",
       "  font-family: monospace;\n",
       "  font-weight: bold;\n",
       "  display: inline-block;\n",
       "  line-height: 1.2em;\n",
       "}\n",
       "\n",
       "#sk-container-id-4 div.sk-label-container {\n",
       "  text-align: center;\n",
       "}\n",
       "\n",
       "/* Estimator-specific */\n",
       "#sk-container-id-4 div.sk-estimator {\n",
       "  font-family: monospace;\n",
       "  border: 1px dotted var(--sklearn-color-border-box);\n",
       "  border-radius: 0.25em;\n",
       "  box-sizing: border-box;\n",
       "  margin-bottom: 0.5em;\n",
       "  /* unfitted */\n",
       "  background-color: var(--sklearn-color-unfitted-level-0);\n",
       "}\n",
       "\n",
       "#sk-container-id-4 div.sk-estimator.fitted {\n",
       "  /* fitted */\n",
       "  background-color: var(--sklearn-color-fitted-level-0);\n",
       "}\n",
       "\n",
       "/* on hover */\n",
       "#sk-container-id-4 div.sk-estimator:hover {\n",
       "  /* unfitted */\n",
       "  background-color: var(--sklearn-color-unfitted-level-2);\n",
       "}\n",
       "\n",
       "#sk-container-id-4 div.sk-estimator.fitted:hover {\n",
       "  /* fitted */\n",
       "  background-color: var(--sklearn-color-fitted-level-2);\n",
       "}\n",
       "\n",
       "/* Specification for estimator info (e.g. \"i\" and \"?\") */\n",
       "\n",
       "/* Common style for \"i\" and \"?\" */\n",
       "\n",
       ".sk-estimator-doc-link,\n",
       "a:link.sk-estimator-doc-link,\n",
       "a:visited.sk-estimator-doc-link {\n",
       "  float: right;\n",
       "  font-size: smaller;\n",
       "  line-height: 1em;\n",
       "  font-family: monospace;\n",
       "  background-color: var(--sklearn-color-background);\n",
       "  border-radius: 1em;\n",
       "  height: 1em;\n",
       "  width: 1em;\n",
       "  text-decoration: none !important;\n",
       "  margin-left: 0.5em;\n",
       "  text-align: center;\n",
       "  /* unfitted */\n",
       "  border: var(--sklearn-color-unfitted-level-1) 1pt solid;\n",
       "  color: var(--sklearn-color-unfitted-level-1);\n",
       "}\n",
       "\n",
       ".sk-estimator-doc-link.fitted,\n",
       "a:link.sk-estimator-doc-link.fitted,\n",
       "a:visited.sk-estimator-doc-link.fitted {\n",
       "  /* fitted */\n",
       "  border: var(--sklearn-color-fitted-level-1) 1pt solid;\n",
       "  color: var(--sklearn-color-fitted-level-1);\n",
       "}\n",
       "\n",
       "/* On hover */\n",
       "div.sk-estimator:hover .sk-estimator-doc-link:hover,\n",
       ".sk-estimator-doc-link:hover,\n",
       "div.sk-label-container:hover .sk-estimator-doc-link:hover,\n",
       ".sk-estimator-doc-link:hover {\n",
       "  /* unfitted */\n",
       "  background-color: var(--sklearn-color-unfitted-level-3);\n",
       "  color: var(--sklearn-color-background);\n",
       "  text-decoration: none;\n",
       "}\n",
       "\n",
       "div.sk-estimator.fitted:hover .sk-estimator-doc-link.fitted:hover,\n",
       ".sk-estimator-doc-link.fitted:hover,\n",
       "div.sk-label-container:hover .sk-estimator-doc-link.fitted:hover,\n",
       ".sk-estimator-doc-link.fitted:hover {\n",
       "  /* fitted */\n",
       "  background-color: var(--sklearn-color-fitted-level-3);\n",
       "  color: var(--sklearn-color-background);\n",
       "  text-decoration: none;\n",
       "}\n",
       "\n",
       "/* Span, style for the box shown on hovering the info icon */\n",
       ".sk-estimator-doc-link span {\n",
       "  display: none;\n",
       "  z-index: 9999;\n",
       "  position: relative;\n",
       "  font-weight: normal;\n",
       "  right: .2ex;\n",
       "  padding: .5ex;\n",
       "  margin: .5ex;\n",
       "  width: min-content;\n",
       "  min-width: 20ex;\n",
       "  max-width: 50ex;\n",
       "  color: var(--sklearn-color-text);\n",
       "  box-shadow: 2pt 2pt 4pt #999;\n",
       "  /* unfitted */\n",
       "  background: var(--sklearn-color-unfitted-level-0);\n",
       "  border: .5pt solid var(--sklearn-color-unfitted-level-3);\n",
       "}\n",
       "\n",
       ".sk-estimator-doc-link.fitted span {\n",
       "  /* fitted */\n",
       "  background: var(--sklearn-color-fitted-level-0);\n",
       "  border: var(--sklearn-color-fitted-level-3);\n",
       "}\n",
       "\n",
       ".sk-estimator-doc-link:hover span {\n",
       "  display: block;\n",
       "}\n",
       "\n",
       "/* \"?\"-specific style due to the `<a>` HTML tag */\n",
       "\n",
       "#sk-container-id-4 a.estimator_doc_link {\n",
       "  float: right;\n",
       "  font-size: 1rem;\n",
       "  line-height: 1em;\n",
       "  font-family: monospace;\n",
       "  background-color: var(--sklearn-color-background);\n",
       "  border-radius: 1rem;\n",
       "  height: 1rem;\n",
       "  width: 1rem;\n",
       "  text-decoration: none;\n",
       "  /* unfitted */\n",
       "  color: var(--sklearn-color-unfitted-level-1);\n",
       "  border: var(--sklearn-color-unfitted-level-1) 1pt solid;\n",
       "}\n",
       "\n",
       "#sk-container-id-4 a.estimator_doc_link.fitted {\n",
       "  /* fitted */\n",
       "  border: var(--sklearn-color-fitted-level-1) 1pt solid;\n",
       "  color: var(--sklearn-color-fitted-level-1);\n",
       "}\n",
       "\n",
       "/* On hover */\n",
       "#sk-container-id-4 a.estimator_doc_link:hover {\n",
       "  /* unfitted */\n",
       "  background-color: var(--sklearn-color-unfitted-level-3);\n",
       "  color: var(--sklearn-color-background);\n",
       "  text-decoration: none;\n",
       "}\n",
       "\n",
       "#sk-container-id-4 a.estimator_doc_link.fitted:hover {\n",
       "  /* fitted */\n",
       "  background-color: var(--sklearn-color-fitted-level-3);\n",
       "}\n",
       "</style><div id=\"sk-container-id-4\" class=\"sk-top-container\"><div class=\"sk-text-repr-fallback\"><pre>TSNE()</pre><b>In a Jupyter environment, please rerun this cell to show the HTML representation or trust the notebook. <br />On GitHub, the HTML representation is unable to render, please try loading this page with nbviewer.org.</b></div><div class=\"sk-container\" hidden><div class=\"sk-item\"><div class=\"sk-estimator  sk-toggleable\"><input class=\"sk-toggleable__control sk-hidden--visually\" id=\"sk-estimator-id-4\" type=\"checkbox\" checked><label for=\"sk-estimator-id-4\" class=\"sk-toggleable__label  sk-toggleable__label-arrow\"><div><div>TSNE</div></div><div><a class=\"sk-estimator-doc-link \" rel=\"noreferrer\" target=\"_blank\" href=\"https://scikit-learn.org/1.6/modules/generated/sklearn.manifold.TSNE.html\">?<span>Documentation for TSNE</span></a><span class=\"sk-estimator-doc-link \">i<span>Not fitted</span></span></div></label><div class=\"sk-toggleable__content \"><pre>TSNE()</pre></div> </div></div></div></div>"
      ],
      "text/plain": [
       "TSNE()"
      ]
     },
     "execution_count": 40,
     "metadata": {},
     "output_type": "execute_result"
    }
   ],
   "source": [
    "tsne = TSNE(n_components=2) # Transform data from 100 dimension to 2-dimension. for e.g. n_components=3 -> 3-dimension\n",
    "tsne"
   ]
  },
  {
   "cell_type": "code",
   "execution_count": 48,
   "metadata": {},
   "outputs": [
    {
     "data": {
      "text/plain": [
       "array([[-1.263077  , -0.07145092],\n",
       "       [ 2.8420236 ,  3.6818147 ],\n",
       "       [-2.9090424 ,  2.7932549 ],\n",
       "       [-2.312085  ,  1.5484492 ],\n",
       "       [ 2.4737818 ,  1.2607536 ],\n",
       "       [-3.4098735 ,  3.8429806 ],\n",
       "       [-0.11004406,  0.34857962],\n",
       "       [ 1.1359575 ,  1.4329894 ],\n",
       "       [-3.6886134 ,  0.32051918],\n",
       "       [-1.2577075 , -0.3806536 ],\n",
       "       [-0.25309542,  5.617568  ],\n",
       "       [-1.1367623 ,  2.7282429 ],\n",
       "       [ 0.9069257 ,  5.2313833 ],\n",
       "       [ 2.5897152 ,  1.53452   ],\n",
       "       [-0.87595433,  2.1236744 ],\n",
       "       [-2.1307523 ,  5.457598  ],\n",
       "       [-0.00714922, -1.5059631 ],\n",
       "       [-0.02543517,  2.3370957 ],\n",
       "       [-0.6141232 ,  2.5485892 ],\n",
       "       [ 1.0388466 ,  1.2671311 ],\n",
       "       [-2.2403035 ,  2.768337  ],\n",
       "       [ 1.8546172 ,  0.40577483],\n",
       "       [ 3.1272686 ,  3.278782  ],\n",
       "       [ 2.8246355 ,  4.6446743 ],\n",
       "       [ 1.6239424 ,  3.3373983 ],\n",
       "       [ 1.3596203 ,  2.7313383 ],\n",
       "       [ 0.92498225,  0.33429828],\n",
       "       [-3.64346   ,  0.9274386 ],\n",
       "       [-0.08552835, -0.2506975 ],\n",
       "       [ 2.5295408 ,  2.5536315 ],\n",
       "       [-2.267876  ,  2.7182066 ],\n",
       "       [ 3.837525  ,  0.67410904],\n",
       "       [ 0.8062514 ,  4.9841976 ],\n",
       "       [ 2.488281  ,  0.3876362 ],\n",
       "       [-0.26179257,  1.5231106 ],\n",
       "       [-0.34804443,  4.5266094 ],\n",
       "       [-2.4909348 ,  2.1025667 ],\n",
       "       [-0.13308407,  0.53850657],\n",
       "       [ 2.7664526 , -0.3665099 ],\n",
       "       [ 1.1199219 ,  0.334959  ],\n",
       "       [-0.33781773,  4.6075664 ],\n",
       "       [-1.2469801 ,  1.186997  ],\n",
       "       [-0.32260635,  3.3590662 ],\n",
       "       [-0.3023357 ,  5.8062325 ],\n",
       "       [-1.1791531 , -1.3064727 ],\n",
       "       [ 0.9973671 , -0.5050707 ],\n",
       "       [-3.0854971 ,  1.0289505 ],\n",
       "       [-0.46258256,  0.9941714 ],\n",
       "       [ 1.2858406 , -0.8691963 ],\n",
       "       [-0.9739839 ,  3.7925296 ],\n",
       "       [-2.2358515 , -2.1817434 ],\n",
       "       [-0.07141685,  3.0441852 ],\n",
       "       [-4.04024   , -0.1207012 ],\n",
       "       [-1.8200661 , -0.22039881],\n",
       "       [ 0.06368044, -2.1996229 ],\n",
       "       [ 0.7701124 ,  1.8520747 ],\n",
       "       [ 0.809355  ,  3.7701492 ],\n",
       "       [-1.538305  ,  2.4589894 ],\n",
       "       [-3.1512551 ,  0.96416944],\n",
       "       [-4.103631  ,  2.7750418 ],\n",
       "       [ 1.5567526 , -1.0021913 ],\n",
       "       [-1.5364211 ,  3.9445224 ],\n",
       "       [-1.0834037 ,  1.8296328 ],\n",
       "       [ 0.73655415,  2.85579   ],\n",
       "       [ 0.3071945 ,  1.3983425 ],\n",
       "       [-1.0757169 , -1.2724682 ],\n",
       "       [ 1.4213692 ,  4.779661  ],\n",
       "       [ 3.8211818 ,  2.06951   ],\n",
       "       [-2.9694045 ,  3.0195243 ],\n",
       "       [ 2.0809927 ,  1.6896306 ],\n",
       "       [-2.6516051 ,  0.85249346],\n",
       "       [-2.815731  , -0.48953956],\n",
       "       [-1.6466415 ,  1.0308253 ],\n",
       "       [-3.233422  ,  3.7614236 ],\n",
       "       [-1.077329  ,  4.5538917 ],\n",
       "       [ 2.0612648 ,  3.945454  ],\n",
       "       [ 2.5105581 , -1.2184451 ],\n",
       "       [ 1.2416323 ,  2.866752  ],\n",
       "       [ 1.3932941 ,  3.9184427 ],\n",
       "       [ 3.5093584 ,  1.0171058 ],\n",
       "       [ 2.465723  , -1.1311772 ],\n",
       "       [-1.902184  ,  1.4609038 ],\n",
       "       [-1.6387576 ,  0.84408885],\n",
       "       [-3.2473996 ,  1.9790468 ],\n",
       "       [ 2.5880299 ,  2.622813  ],\n",
       "       [ 0.80261123,  2.0451124 ],\n",
       "       [-0.568934  ,  3.245809  ],\n",
       "       [ 1.7346603 ,  2.2434387 ],\n",
       "       [-0.73952824,  1.2578361 ],\n",
       "       [-3.1249893 , -0.477143  ],\n",
       "       [ 3.584022  ,  1.6530112 ],\n",
       "       [-1.7978628 ,  2.8240569 ],\n",
       "       [-0.33350295,  4.4346538 ],\n",
       "       [-2.112144  ,  0.22926119],\n",
       "       [ 0.3174947 ,  2.5037649 ],\n",
       "       [ 1.3240584 ,  2.7392027 ],\n",
       "       [-0.85820293, -0.27294075],\n",
       "       [ 0.09184203, -2.2685678 ],\n",
       "       [-4.5078864 ,  0.95680714],\n",
       "       [ 2.2733865 ,  0.39602056],\n",
       "       [ 1.4341816 ,  0.17166932],\n",
       "       [ 3.0652738 , -0.33159634],\n",
       "       [-2.4108927 ,  4.2520795 ],\n",
       "       [ 3.8135574 ,  2.5922935 ],\n",
       "       [ 0.44591033,  3.9254622 ]], dtype=float32)"
      ]
     },
     "execution_count": 48,
     "metadata": {},
     "output_type": "execute_result"
    }
   ],
   "source": [
    "x_new_embeddings = tsne.fit_transform(x)\n",
    "x_new_embeddings"
   ]
  },
  {
   "cell_type": "code",
   "execution_count": 52,
   "metadata": {},
   "outputs": [
    {
     "data": {
      "text/plain": [
       "<matplotlib.collections.PathCollection at 0x307220190>"
      ]
     },
     "execution_count": 52,
     "metadata": {},
     "output_type": "execute_result"
    },
    {
     "data": {
      "image/png": "[encoded data removed]",
      "text/plain": [
       "<Figure size 1200x600 with 1 Axes>"
      ]
     },
     "metadata": {},
     "output_type": "display_data"
    }
   ],
   "source": [
    "plt.figure(figsize=(12,6))\n",
    "plt.scatter(x_new_embeddings[:, 0], x_new_embeddings[:, 1], marker='o')"
   ]
  },
  {
   "cell_type": "code",
   "execution_count": 53,
   "metadata": {},
   "outputs": [
    {
     "data": {
      "text/plain": [
       "['ai',\n",
       " 'helps',\n",
       " 'efficiency',\n",
       " 'smart',\n",
       " 'improves',\n",
       " 'analyze',\n",
       " 'aidriven',\n",
       " 'energy',\n",
       " 'use',\n",
       " 'monitor',\n",
       " 'consumption',\n",
       " 'digitization',\n",
       " 'document',\n",
       " 'processing',\n",
       " 'wildlife',\n",
       " 'conservation',\n",
       " 'shaping',\n",
       " 'endangered',\n",
       " 'species',\n",
       " 'handwriting',\n",
       " 'future',\n",
       " 'content',\n",
       " 'creation',\n",
       " 'journalism',\n",
       " 'storytelling',\n",
       " 'job',\n",
       " 'matching',\n",
       " 'platforms',\n",
       " 'recognition',\n",
       " 'search',\n",
       " 'aibased',\n",
       " 'online',\n",
       " 'legal',\n",
       " 'research',\n",
       " 'lawyers',\n",
       " 'case',\n",
       " 'laws',\n",
       " 'efficiently',\n",
       " 'used',\n",
       " 'astronomy',\n",
       " 'vast',\n",
       " 'amounts',\n",
       " 'cosmic',\n",
       " 'data',\n",
       " 'homes',\n",
       " 'automation',\n",
       " 'revolutionizing',\n",
       " 'way',\n",
       " 'people',\n",
       " 'connect',\n",
       " 'information',\n",
       " 'help',\n",
       " 'candidates',\n",
       " 'distribution',\n",
       " 'suitable',\n",
       " 'analysis',\n",
       " 'helping',\n",
       " 'researchers',\n",
       " 'discover',\n",
       " 'new',\n",
       " 'materials',\n",
       " 'chemical',\n",
       " 'compounds',\n",
       " 'law',\n",
       " 'enforcement',\n",
       " 'aids',\n",
       " 'criminal',\n",
       " 'investigations',\n",
       " 'predictive',\n",
       " 'policing',\n",
       " 'autonomous',\n",
       " 'ships',\n",
       " 'transforming',\n",
       " 'maritime',\n",
       " 'transportation',\n",
       " 'aipowered',\n",
       " 'grids',\n",
       " 'enhance',\n",
       " 'performance',\n",
       " 'team',\n",
       " 'analytics',\n",
       " 'manufacturing',\n",
       " 'employers',\n",
       " 'financial',\n",
       " 'sector',\n",
       " 'uses',\n",
       " 'assess',\n",
       " 'credit',\n",
       " 'risk',\n",
       " 'detect',\n",
       " 'fraudulent',\n",
       " 'transactions',\n",
       " 'enhances',\n",
       " 'sports',\n",
       " 'reduces',\n",
       " 'production',\n",
       " 'errors',\n",
       " 'wearable',\n",
       " 'technology',\n",
       " 'powered',\n",
       " 'personal',\n",
       " 'health',\n",
       " 'metrics',\n",
       " 'role',\n",
       " 'aiassisted']"
      ]
     },
     "execution_count": 53,
     "metadata": {},
     "output_type": "execute_result"
    }
   ],
   "source": [
    "vocab"
   ]
  },
  {
   "cell_type": "code",
   "execution_count": 55,
   "metadata": {},
   "outputs": [
    {
     "name": "stdout",
     "output_type": "stream",
     "text": [
      "0 ai\n",
      "1 helps\n",
      "2 efficiency\n",
      "3 smart\n",
      "4 improves\n",
      "5 analyze\n",
      "6 aidriven\n",
      "7 energy\n",
      "8 use\n",
      "9 monitor\n",
      "10 consumption\n",
      "11 digitization\n",
      "12 document\n",
      "13 processing\n",
      "14 wildlife\n",
      "15 conservation\n",
      "16 shaping\n",
      "17 endangered\n",
      "18 species\n",
      "19 handwriting\n",
      "20 future\n",
      "21 content\n",
      "22 creation\n",
      "23 journalism\n",
      "24 storytelling\n",
      "25 job\n",
      "26 matching\n",
      "27 platforms\n",
      "28 recognition\n",
      "29 search\n",
      "30 aibased\n",
      "31 online\n",
      "32 legal\n",
      "33 research\n",
      "34 lawyers\n",
      "35 case\n",
      "36 laws\n",
      "37 efficiently\n",
      "38 used\n",
      "39 astronomy\n",
      "40 vast\n",
      "41 amounts\n",
      "42 cosmic\n",
      "43 data\n",
      "44 homes\n",
      "45 automation\n",
      "46 revolutionizing\n",
      "47 way\n",
      "48 people\n",
      "49 connect\n",
      "50 information\n",
      "51 help\n",
      "52 candidates\n",
      "53 distribution\n",
      "54 suitable\n",
      "55 analysis\n",
      "56 helping\n",
      "57 researchers\n",
      "58 discover\n",
      "59 new\n",
      "60 materials\n",
      "61 chemical\n",
      "62 compounds\n",
      "63 law\n",
      "64 enforcement\n",
      "65 aids\n",
      "66 criminal\n",
      "67 investigations\n",
      "68 predictive\n",
      "69 policing\n",
      "70 autonomous\n",
      "71 ships\n",
      "72 transforming\n",
      "73 maritime\n",
      "74 transportation\n",
      "75 aipowered\n",
      "76 grids\n",
      "77 enhance\n",
      "78 performance\n",
      "79 team\n",
      "80 analytics\n",
      "81 manufacturing\n",
      "82 employers\n",
      "83 financial\n",
      "84 sector\n",
      "85 uses\n",
      "86 assess\n",
      "87 credit\n",
      "88 risk\n",
      "89 detect\n",
      "90 fraudulent\n",
      "91 transactions\n",
      "92 enhances\n",
      "93 sports\n",
      "94 reduces\n",
      "95 production\n",
      "96 errors\n",
      "97 wearable\n",
      "98 technology\n",
      "99 powered\n",
      "100 personal\n",
      "101 health\n",
      "102 metrics\n",
      "103 role\n",
      "104 aiassisted\n"
     ]
    }
   ],
   "source": [
    "for i, words in enumerate(vocab[:len(x_new_embeddings)]):\n",
    "    print(i, words)"
   ]
  },
  {
   "cell_type": "code",
   "execution_count": 61,
   "metadata": {},
   "outputs": [
    {
     "data": {
      "image/png": "[encoded data removed]",
      "text/plain": [
       "<Figure size 1200x600 with 1 Axes>"
      ]
     },
     "metadata": {},
     "output_type": "display_data"
    }
   ],
   "source": [
    "plt.figure(figsize=(12,6))\n",
    "plt.scatter(x_new_embeddings[:, 0], x_new_embeddings[:, 1], marker='o')\n",
    "for i, words in enumerate(vocab[:len(x_new_embeddings)]):\n",
    "    plt.annotate(words, xy=(x_new_embeddings[i,0], x_new_embeddings[i,1]))"
   ]
  },
  {
   "cell_type": "code",
   "execution_count": 69,
   "metadata": {},
   "outputs": [
    {
     "data": {
      "text/plain": [
       "[('endangered', 0.21328260004520416),\n",
       " ('production', 0.18262866139411926),\n",
       " ('help', 0.16839760541915894),\n",
       " ('sector', 0.16805176436901093),\n",
       " ('law', 0.15568555891513824)]"
      ]
     },
     "execution_count": 69,
     "metadata": {},
     "output_type": "execute_result"
    }
   ],
   "source": [
    "word2vec_cbow.wv.most_similar(\"reduces\", topn=5)"
   ]
  },
  {
   "cell_type": "code",
   "execution_count": 70,
   "metadata": {},
   "outputs": [],
   "source": [
    "text = \"Barack Obama was the 44th President of the United States.\""
   ]
  },
  {
   "cell_type": "code",
   "execution_count": 71,
   "metadata": {},
   "outputs": [
    {
     "data": {
      "text/plain": [
       "['Barack',\n",
       " 'Obama',\n",
       " 'was',\n",
       " 'the',\n",
       " '44th',\n",
       " 'President',\n",
       " 'of',\n",
       " 'the',\n",
       " 'United',\n",
       " 'States',\n",
       " '.']"
      ]
     },
     "execution_count": 71,
     "metadata": {},
     "output_type": "execute_result"
    }
   ],
   "source": [
    "word_tokenize(text)"
   ]
  }
 ],
 "metadata": {
  "kernelspec": {
   "display_name": "myenv-new",
   "language": "python",
   "name": "python3"
  },
  "language_info": {
   "codemirror_mode": {
    "name": "ipython",
    "version": 3
   },
   "file_extension": ".py",
   "mimetype": "text/x-python",
   "name": "python",
   "nbconvert_exporter": "python",
   "pygments_lexer": "ipython3",
   "version": "3.11.11"
  }
 },
 "nbformat": 4,
 "nbformat_minor": 2
}
