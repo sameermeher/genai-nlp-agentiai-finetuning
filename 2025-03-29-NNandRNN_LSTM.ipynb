{
 "cells": [
  {
   "cell_type": "code",
   "execution_count": 1,
   "metadata": {},
   "outputs": [],
   "source": [
    "input = [1,2,3,4]\n",
    "output = [2,4,6,8]"
   ]
  },
  {
   "cell_type": "code",
   "execution_count": null,
   "metadata": {},
   "outputs": [],
   "source": [
    "list(zip(input, output))"
   ]
  },
  {
   "cell_type": "code",
   "execution_count": null,
   "metadata": {},
   "outputs": [],
   "source": [
    "w = 0.0   # weight\n",
    "b = 0.0   # bias\n",
    "lr = .01 # learning rate"
   ]
  },
  {
   "cell_type": "code",
   "execution_count": null,
   "metadata": {},
   "outputs": [],
   "source": [
    "for epoch in range(1000):\n",
    "    total_loss = 0\n",
    "    for x,y in zip(input,output):\n",
    "        Y_pred = w*x+b\n",
    "        error = Y_pred-y\n",
    "        loss = error**2\n",
    "        total_loss = total_loss + loss\n",
    "\n",
    "        dw = 2*error*x\n",
    "        db = 2*error\n",
    "\n",
    "        w = w - lr*dw\n",
    "        b = b - lr*db\n",
    "\n",
    "    if epoch%10 == 0:\n",
    "        print(f\"epoch {epoch} | Loss: {total_loss} | w: {w}, b: {b}\")\n",
    "\n",
    "test_data = 7\n",
    "prediction = w*test_data + b\n",
    "print(prediction)"
   ]
  },
  {
   "cell_type": "code",
   "execution_count": null,
   "metadata": {},
   "outputs": [],
   "source": [
    "input = [1,2,3,4,5]\n",
    "output = [2,4,6,8,10]"
   ]
  },
  {
   "cell_type": "code",
   "execution_count": null,
   "metadata": {},
   "outputs": [],
   "source": [
    "# input neurons\n",
    "w1, b1 = 0.1, 0.0\n",
    "w2, b2 = -0.1, 0.0\n",
    "\n",
    "# hideen layer\n",
    "w3, w4 = 0.1, 0.1\n",
    "b3 = 0.0\n",
    "\n",
    "# learning rate\n",
    "lr = 0.01"
   ]
  },
  {
   "cell_type": "code",
   "execution_count": null,
   "metadata": {},
   "outputs": [],
   "source": [
    "def relu(x):\n",
    "    return max(0,x)"
   ]
  },
  {
   "cell_type": "code",
   "execution_count": null,
   "metadata": {},
   "outputs": [],
   "source": [
    "def relu_derivative(x):\n",
    "    return 1 if x>0 else 0"
   ]
  },
  {
   "cell_type": "code",
   "execution_count": null,
   "metadata": {},
   "outputs": [],
   "source": [
    "for epoch in range(100):\n",
    "    total_loss = 0\n",
    "    for x,y in zip(input, output):\n",
    "        z1 = w1*x + b1\n",
    "        h1 = relu(z1)\n",
    "\n",
    "        z2 = w2*x + b2\n",
    "        h2 = relu(z2)\n",
    "\n",
    "        Y_pred = w3*h1 + w4*h2 + b3\n",
    "        \n",
    "        error = Y_pred - y\n",
    "        loss = error**2\n",
    "        total_loss = total_loss + loss\n",
    "\n",
    "        dl_dy = 2*error\n",
    "\n",
    "        dw3 = dl_dy * h1\n",
    "        dw4 = dl_dy * h2\n",
    "        db3 = dl_dy\n",
    "\n",
    "        dh1 = dl_dy * w3\n",
    "        dh2 = dl_dy * w4\n",
    "\n",
    "        dz1 = dh1 * relu_derivative(z1)\n",
    "        dz2 = dh2 * relu_derivative(z2)\n",
    "\n",
    "        dw1 = dz1 * x\n",
    "        db1 = dz1\n",
    "\n",
    "        dw2 = dz2 * x\n",
    "        db2 = dz2\n",
    "\n",
    "        w1 = w1 - lr*dw1\n",
    "        w2 = w2 - lr*dw2\n",
    "        w3 = w3 - lr*dw3\n",
    "        w4 = w4 - lr*dw4\n",
    "\n",
    "        b1 = b1 - lr*db1\n",
    "        b2 = b2 - lr*db2\n",
    "        b3 = b3 - lr*db3\n",
    "\n",
    "    if epoch%10 == 0:\n",
    "        print(f\"epoch {epoch} | Loss: {total_loss}\")\n",
    "\n",
    "def prediction(x):\n",
    "    z1 = w1*x + b1\n",
    "    h1 = relu(z1)\n",
    "\n",
    "    z2 = w2*x + b2\n",
    "    h2 = relu(z2)\n",
    "\n",
    "    y_output = w3*h1 + w4*h2 + b3\n",
    "    return y_output\n",
    "\n",
    "prediction(9)"
   ]
  },
  {
   "cell_type": "code",
   "execution_count": 3,
   "metadata": {},
   "outputs": [
    {
     "name": "stdout",
     "output_type": "stream",
     "text": [
      "2.19.0\n"
     ]
    }
   ],
   "source": [
    "#import sys\n",
    "#print(sys.executable)  # Check which Python is running\n",
    "import tensorflow as tf\n",
    "print(tf.__version__)  # Ensure TensorFlow is recognized\n"
   ]
  },
  {
   "cell_type": "code",
   "execution_count": null,
   "metadata": {},
   "outputs": [],
   "source": []
  }
 ],
 "metadata": {
  "kernelspec": {
   "display_name": "myenv",
   "language": "python",
   "name": "python3"
  },
  "language_info": {
   "codemirror_mode": {
    "name": "ipython",
    "version": 3
   },
   "file_extension": ".py",
   "mimetype": "text/x-python",
   "name": "python",
   "nbconvert_exporter": "python",
   "pygments_lexer": "ipython3",
   "version": "3.11.11"
  }
 },
 "nbformat": 4,
 "nbformat_minor": 2
}
