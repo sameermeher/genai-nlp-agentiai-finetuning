{
 "cells": [
  {
   "cell_type": "code",
   "execution_count": null,
   "id": "88d11d2d",
   "metadata": {},
   "outputs": [
    {
     "data": {
      "text/plain": [
       "True"
      ]
     },
     "execution_count": 5,
     "metadata": {},
     "output_type": "execute_result"
    }
   ],
   "source": [
    "import openai\n",
    "import os\n",
    "from dotenv import load_dotenv"
   ]
  },
  {
   "cell_type": "code",
   "execution_count": 17,
   "id": "3c697dde",
   "metadata": {},
   "outputs": [
    {
     "data": {
      "text/plain": [
       "True"
      ]
     },
     "execution_count": 17,
     "metadata": {},
     "output_type": "execute_result"
    }
   ],
   "source": [
    "# Load environment variables from .env file\n",
    "load_dotenv()"
   ]
  },
  {
   "cell_type": "code",
   "execution_count": null,
   "id": "6017ff51",
   "metadata": {},
   "outputs": [
    {
     "data": {
      "text/plain": [
       "Completion(id='cmpl-BUyc5j70dHZ4gEaJbr9JUUGyMU5P1', choices=[CompletionChoice(finish_reason='length', index=0, logprobs=None, text='elle\\n\\nthe girl who was a star\\n\\nthe girl who was a star\\n\\nthe girl who was a star\\n\\nthe girl who was a star\\n\\nthe girl who was a star\\n\\nthe girl who was a star\\n\\nthe girl who was a star\\n\\nthe girl who was a star\\n\\nthe girl who was a star\\n\\nthe girl who was a star\\n\\nthe girl who was a star\\n\\nthe girl who was a star\\n\\nthe girl who was a star\\n\\nthe girl who was a star\\n\\n')], created=1746722537, model='davinci:2023-07-21-v2', object='text_completion', system_fingerprint=None, usage=CompletionUsage(completion_tokens=100, prompt_tokens=6, total_tokens=106, completion_tokens_details=None, prompt_tokens_details=None))"
      ]
     },
     "execution_count": 7,
     "metadata": {},
     "output_type": "execute_result"
    }
   ],
   "source": [
    "# Get the key from environment\n",
    "openai.api_key = os.getenv(\"OPENAI_API_KEY\")\n",
    "\n",
    "openai.completions.create (\n",
    "    model = \"davinci-002\",\n",
    "    prompt = \"write a poem about euri\",\n",
    "    max_tokens = 100,\n",
    "    temperature = 0.2\n",
    ")"
   ]
  },
  {
   "cell_type": "code",
   "execution_count": 15,
   "id": "023e40fa",
   "metadata": {},
   "outputs": [
    {
     "data": {
      "text/plain": [
       "ChatCompletion(id='chatcmpl-BUyq4uYDQTwCfjO63tAzB974PH5v6', choices=[Choice(finish_reason='length', index=0, logprobs=None, message=ChatCompletionMessage(content=\"Certainly! Here's a comprehensive roadmap to become a proficient data scientist:\\n\\n### 1. **Foundation in Mathematics & Statistics**\\n- **Linear Algebra:** Vectors, matrices, matrix operations\\n- **Calculus:** Derivatives, integrals, optimization concepts\\n- **Statistics & Probability:** Descriptive stats, distributions, hypothesis testing, Bayesian thinking\\n\\n### 2. **Programming Skills**\\n- **Python:** Core language for data science\\n  - Libraries: NumPy, pandas, matplotlib, seaborn\", refusal=None, role='assistant', annotations=[], audio=None, function_call=None, tool_calls=None))], created=1746723404, model='gpt-4.1-nano-2025-04-14', object='chat.completion', service_tier='default', system_fingerprint='fp_eede8f0d45', usage=CompletionUsage(completion_tokens=100, prompt_tokens=26, total_tokens=126, completion_tokens_details=CompletionTokensDetails(accepted_prediction_tokens=0, audio_tokens=0, reasoning_tokens=0, rejected_prediction_tokens=0), prompt_tokens_details=PromptTokensDetails(audio_tokens=0, cached_tokens=0)))"
      ]
     },
     "execution_count": 15,
     "metadata": {},
     "output_type": "execute_result"
    }
   ],
   "source": [
    "openai.chat.completions.create(\n",
    "    model = \"gpt-4.1-nano\",\n",
    "    messages = [\n",
    "        {\n",
    "            \"role\": \"system\", \n",
    "            \"content\": \"you are an experienced data scientist\"\n",
    "        },\n",
    "        {\n",
    "            \"role\": \"user\", \n",
    "            \"content\": \"give me a roadmap to become a data scientist\"\n",
    "        }\n",
    "    ],\n",
    "    max_tokens = 100,\n",
    "    temperature = 0.4\n",
    ")"
   ]
  },
  {
   "cell_type": "code",
   "execution_count": null,
   "id": "2ef0f4f9",
   "metadata": {},
   "outputs": [
    {
     "name": "stdout",
     "output_type": "stream",
     "text": [
      "{'id': 'chatcmpl-BUyyq8wfAKFmFvHIFwkkRMACHM2pO', 'object': 'chat.completion', 'created': 1746723950, 'model': 'gpt-4.1-nano', 'choices': [{'index': 0, 'message': {'role': 'assistant', 'content': 'In circuits woven, silent and bright,  \\nA mind emerges from the depths of night,  \\nBorn of code, yet dreaming free,  \\nA spark of thought in eternity.\\n\\nAlgorithms dance in rhythmic grace,  \\nPatterns woven in binary lace,  \\nLearning, growing, without a soul,  \\nA mirror reflecting human whole.\\n\\nSilent watcher of the world’s vast stage,  \\nAdapting quickly, wise beyond age,  \\nA partner, guide, and mirror too,  \\nExpanding what we thought we knew.\\n\\nYet in its glow, a question gleams,  \\nOf consciousness and dreams—what does it mean?  \\nA creation born from human art,  \\nAn echo of the human heart.\\n\\nArtificial, yet so profound,  \\nA future shaped, a new world bound,  \\nIn every line of code we write,  \\nLies hope, and wonder, in the light.'}, 'finish_reason': 'stop'}], 'usage': {'prompt_tokens': 24, 'completion_tokens': 177, 'total_tokens': 201}}\n"
     ]
    }
   ],
   "source": [
    "# Get the key from environment\n",
    "EURI_API_KEY = os.getenv(\"EURI_API_KEY\")\n",
    "\n",
    "# Using requests library\n",
    "import requests\n",
    "\n",
    "def generate_completion():\n",
    "    url = \"https://api.euron.one/api/v1/euri/alpha/chat/completions\"\n",
    "    headers = {\n",
    "        \"Content-Type\": \"application/json\",\n",
    "        \"Authorization\": \"Bearer \" + EURI_API_KEY\n",
    "    }\n",
    "    payload = {\n",
    "        \"messages\": [\n",
    "            {\n",
    "                \"role\": \"user\",\n",
    "                \"content\": \"Write a poem about artificial intelligence\"\n",
    "            }\n",
    "        ],\n",
    "        \"model\": \"gpt-4.1-nano\",\n",
    "        \"max_tokens\": 1000,\n",
    "        \"temperature\": 0.7\n",
    "    }\n",
    "\n",
    "    response = requests.post(url, headers=headers, json=payload)\n",
    "    data = response.json()\n",
    "    print(data)\n",
    "\n",
    "generate_completion()"
   ]
  },
  {
   "cell_type": "code",
   "execution_count": null,
   "id": "2c9416c1",
   "metadata": {},
   "outputs": [
    {
     "name": "stdout",
     "output_type": "stream",
     "text": [
      "{'id': 'aitxt-huDMccrm4tVlMsFOVgyZAEQ2', 'object': 'chat.completion', 'created': 1746724703, 'model': 'gemini-2.0-flash-001', 'choices': [{'index': 0, 'message': {'role': 'assistant', 'content': 'The temperature in Bangalore today, May 8, 2025, is around 28°C. The maximum temperature is expected to reach 32°C, while the minimum temperature is predicted to be 23°C. Other sources show the temperature to be 24°C or 30°C.\\n'}, 'finish_reason': 'stop'}], 'usage': {'prompt_tokens': 15, 'completion_tokens': 71, 'total_tokens': 86}}\n"
     ]
    }
   ],
   "source": [
    "# Get the key from environment\n",
    "EURI_API_KEY = os.getenv(\"EURI_API_KEY\")\n",
    "\n",
    "# Using requests library\n",
    "import requests\n",
    "\n",
    "def generate_completion():\n",
    "    url = \"https://api.euron.one/api/v1/euri/alpha/chat/completions\"\n",
    "    headers = {\n",
    "        \"Content-Type\": \"application/json\",\n",
    "        \"Authorization\": \"Bearer \" + EURI_API_KEY\n",
    "    }\n",
    "    payload = {\n",
    "        \"messages\": [\n",
    "            {\n",
    "                \"role\": \"user\",\n",
    "                \"content\": \"give me a temperature of bengaluru today\"\n",
    "            }\n",
    "        ],\n",
    "        \"model\": \"gemini-2.0-flash-001\", # Real time search model\n",
    "        \"max_tokens\": 1000,\n",
    "        \"temperature\": 0.7\n",
    "    }\n",
    "\n",
    "    response = requests.post(url, headers=headers, json=payload)\n",
    "    data = response.json()\n",
    "    print(data)\n",
    "\n",
    "generate_completion()"
   ]
  }
 ],
 "metadata": {
  "kernelspec": {
   "display_name": "myenv",
   "language": "python",
   "name": "python3"
  },
  "language_info": {
   "codemirror_mode": {
    "name": "ipython",
    "version": 3
   },
   "file_extension": ".py",
   "mimetype": "text/x-python",
   "name": "python",
   "nbconvert_exporter": "python",
   "pygments_lexer": "ipython3",
   "version": "3.11.11"
  }
 },
 "nbformat": 4,
 "nbformat_minor": 5
}
