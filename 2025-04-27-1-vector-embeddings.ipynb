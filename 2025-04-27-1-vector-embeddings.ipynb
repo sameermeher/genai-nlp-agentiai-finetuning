{
 "cells": [
  {
   "cell_type": "code",
   "execution_count": 2,
   "id": "effcc2a3",
   "metadata": {},
   "outputs": [],
   "source": [
    "# Using requests library for embeddings\n",
    "import os\n",
    "import requests\n",
    "import numpy as np\n",
    "from dotenv import load_dotenv\n",
    "\n",
    "load_dotenv()\n",
    "\n",
    "EURI_API_KEY = os.getenv(\"EURI_API_KEY\")\n",
    "\n",
    "def generate_embeddings():\n",
    "    url = \"https://api.euron.one/api/v1/euri/alpha/embeddings\"\n",
    "    headers = {\n",
    "        \"Content-Type\": \"application/json\",\n",
    "        \"Authorization\": f\"Bearer {EURI_API_KEY}\"\n",
    "    }\n",
    "    payload = {\n",
    "        \"input\": \"The food was delicious and the service was excellent.\",\n",
    "        \"model\": \"text-embedding-3-small\"\n",
    "    }\n",
    "\n",
    "    response = requests.post(url, headers=headers, json=payload)\n",
    "    data = response.json()\n",
    "    \n",
    "    # Convert to numpy array for vector operations\n",
    "    embedding = np.array(data['data'][0]['embedding'])\n",
    "    \n",
    "    print(f\"Generated embedding with shape: {embedding.shape}\")\n",
    "    print(f\"First 5 values: {embedding[:5]}\")\n",
    "    \n",
    "    # Example: Calculate vector norm\n",
    "    norm = np.linalg.norm(embedding)\n",
    "    print(f\"Vector norm: {norm}\")\n",
    "    \n",
    "    return embedding"
   ]
  },
  {
   "cell_type": "code",
   "execution_count": 3,
   "id": "11e4dcfe",
   "metadata": {},
   "outputs": [
    {
     "name": "stdout",
     "output_type": "stream",
     "text": [
      "Generated embedding with shape: (1536,)\n",
      "First 5 values: [-0.03244253 -0.00839565 -0.06356495 -0.04268333  0.04704366]\n",
      "Vector norm: 1.0000000296607552\n"
     ]
    },
    {
     "data": {
      "text/plain": [
       "array([-0.03244253, -0.00839565, -0.06356495, ..., -0.00225143,\n",
       "        0.05896459, -0.03152246])"
      ]
     },
     "execution_count": 3,
     "metadata": {},
     "output_type": "execute_result"
    }
   ],
   "source": [
    "generate_embeddings()"
   ]
  },
  {
   "cell_type": "code",
   "execution_count": 3,
   "id": "5ea89711",
   "metadata": {},
   "outputs": [],
   "source": [
    "# Using requests library for embeddings\n",
    "import requests\n",
    "import numpy as np\n",
    "\n",
    "def generate_embeddings(text):\n",
    "    url = \"https://api.euron.one/api/v1/euri/alpha/embeddings\"\n",
    "    headers = {\n",
    "        \"Content-Type\": \"application/json\",\n",
    "        \"Authorization\": f\"Bearer {EURI_API_KEY}\"\n",
    "    }\n",
    "    payload = {\n",
    "        \"input\": text,\n",
    "        \"model\": \"text-embedding-3-small\"\n",
    "    }\n",
    "\n",
    "    response = requests.post(url, headers=headers, json=payload)\n",
    "    data = response.json()\n",
    "    \n",
    "    # Convert to numpy array for vector operations\n",
    "    embedding = np.array(data['data'][0]['embedding'])\n",
    "    \n",
    "    print(f\"Generated embedding with shape: {embedding.shape}\")\n",
    "    print(f\"First 5 values: {embedding[:5]}\")\n",
    "    \n",
    "    # Example: Calculate vector norm\n",
    "    norm = np.linalg.norm(embedding)\n",
    "    print(f\"Vector norm: {norm}\")\n",
    "    \n",
    "    return embedding"
   ]
  },
  {
   "cell_type": "code",
   "execution_count": 7,
   "id": "123a1a54",
   "metadata": {},
   "outputs": [
    {
     "name": "stdout",
     "output_type": "stream",
     "text": [
      "Generated embedding with shape: (1536,)\n",
      "First 5 values: [-0.00965959 -0.02545136 -0.0277467  -0.01005902 -0.06116427]\n",
      "Vector norm: 1.0000000358807721\n"
     ]
    }
   ],
   "source": [
    "data1 = generate_embeddings(\"my name is sudhanshu kumar\")"
   ]
  },
  {
   "cell_type": "code",
   "execution_count": 8,
   "id": "76470edb",
   "metadata": {},
   "outputs": [
    {
     "data": {
      "text/plain": [
       "array([-0.00965959, -0.02545136, -0.0277467 , ...,  0.00493669,\n",
       "        0.01804773, -0.00078129])"
      ]
     },
     "execution_count": 8,
     "metadata": {},
     "output_type": "execute_result"
    }
   ],
   "source": [
    "data1"
   ]
  },
  {
   "cell_type": "code",
   "execution_count": 9,
   "id": "9962b276",
   "metadata": {},
   "outputs": [
    {
     "name": "stdout",
     "output_type": "stream",
     "text": [
      "Generated embedding with shape: (1536,)\n",
      "First 5 values: [-0.04761972  0.00898147  0.00278912 -0.05086942  0.02151971]\n",
      "Vector norm: 0.999999969675327\n"
     ]
    }
   ],
   "source": [
    "data2 = generate_embeddings(\"sudhanshu kumar take class for tech\")"
   ]
  },
  {
   "cell_type": "code",
   "execution_count": 10,
   "id": "190deef7",
   "metadata": {},
   "outputs": [
    {
     "data": {
      "text/plain": [
       "array([-0.04761972,  0.00898147,  0.00278912, ...,  0.02084162,\n",
       "        0.02370751,  0.000431  ])"
      ]
     },
     "execution_count": 10,
     "metadata": {},
     "output_type": "execute_result"
    }
   ],
   "source": [
    "data2"
   ]
  },
  {
   "cell_type": "code",
   "execution_count": 11,
   "id": "c9caa6b9",
   "metadata": {},
   "outputs": [],
   "source": [
    "import numpy as np"
   ]
  },
  {
   "cell_type": "code",
   "execution_count": 12,
   "id": "2ae2cf17",
   "metadata": {},
   "outputs": [
    {
     "data": {
      "text/plain": [
       "(array([-0.00965959, -0.02545136, -0.0277467 , ...,  0.00493669,\n",
       "         0.01804773, -0.00078129]),\n",
       " array([-0.04761972,  0.00898147,  0.00278912, ...,  0.02084162,\n",
       "         0.02370751,  0.000431  ]))"
      ]
     },
     "execution_count": 12,
     "metadata": {},
     "output_type": "execute_result"
    }
   ],
   "source": [
    "data1, data2"
   ]
  },
  {
   "cell_type": "code",
   "execution_count": null,
   "id": "6adda6b3",
   "metadata": {},
   "outputs": [],
   "source": [
    "cosign_similarity = np.dot(data1, data2)/(np.linalg.norm(data1)*np.linalg.norm(data2))\n",
    "# cosign_similarity -> always looks for how close the angle is between two vectors\n",
    "# Apart from cosign, there euclidean distance, manhattan distance, jaccard distance as well.\n",
    "# For e.g. FASSI (facebook AI Similarity Search Index - vector DB from Facebook) is used for similarity search and uses Approximate Nearest Neighbour algorithm."
   ]
  },
  {
   "cell_type": "code",
   "execution_count": 21,
   "id": "7dc0036a",
   "metadata": {},
   "outputs": [],
   "source": [
    "cosign_distance = 1 - cosign_similarity"
   ]
  },
  {
   "cell_type": "code",
   "execution_count": 22,
   "id": "2917b3c2",
   "metadata": {},
   "outputs": [
    {
     "data": {
      "text/plain": [
       "np.float64(0.44568355460644316)"
      ]
     },
     "execution_count": 22,
     "metadata": {},
     "output_type": "execute_result"
    }
   ],
   "source": [
    "cosign_distance"
   ]
  },
  {
   "cell_type": "code",
   "execution_count": 23,
   "id": "d018a424",
   "metadata": {},
   "outputs": [
    {
     "name": "stdout",
     "output_type": "stream",
     "text": [
      "Generated embedding with shape: (1536,)\n",
      "First 5 values: [ 0.02695428 -0.05315723 -0.00928021  0.01220926 -0.05419032]\n",
      "Vector norm: 1.0000000276464485\n"
     ]
    }
   ],
   "source": [
    "data3 = generate_embeddings(\"people call me by my name sudhanshu kumar\")"
   ]
  },
  {
   "cell_type": "code",
   "execution_count": 24,
   "id": "3cdf8ea0",
   "metadata": {},
   "outputs": [
    {
     "data": {
      "text/plain": [
       "(array([-0.00965959, -0.02545136, -0.0277467 , ...,  0.00493669,\n",
       "         0.01804773, -0.00078129]),\n",
       " array([-0.04761972,  0.00898147,  0.00278912, ...,  0.02084162,\n",
       "         0.02370751,  0.000431  ]),\n",
       " array([ 0.02695428, -0.05315723, -0.00928021, ...,  0.0039504 ,\n",
       "         0.01880695,  0.00535622]))"
      ]
     },
     "execution_count": 24,
     "metadata": {},
     "output_type": "execute_result"
    }
   ],
   "source": [
    "data1, data2, data3"
   ]
  },
  {
   "cell_type": "code",
   "execution_count": 25,
   "id": "ac91dd74",
   "metadata": {},
   "outputs": [],
   "source": [
    "cosign_similarty2 = np.dot(data1,data3)/(np.linalg.norm(data1)*np.linalg.norm(data3))"
   ]
  },
  {
   "cell_type": "code",
   "execution_count": 26,
   "id": "f0c88396",
   "metadata": {},
   "outputs": [
    {
     "data": {
      "text/plain": [
       "np.float64(0.8295106197047585)"
      ]
     },
     "execution_count": 26,
     "metadata": {},
     "output_type": "execute_result"
    }
   ],
   "source": [
    "cosign_similarty2"
   ]
  },
  {
   "cell_type": "code",
   "execution_count": 27,
   "id": "ee6e8d53",
   "metadata": {},
   "outputs": [],
   "source": [
    "cosign_distance2 = 1 - cosign_similarty2"
   ]
  },
  {
   "cell_type": "code",
   "execution_count": 28,
   "id": "82a89436",
   "metadata": {},
   "outputs": [
    {
     "data": {
      "text/plain": [
       "np.float64(0.17048938029524152)"
      ]
     },
     "execution_count": 28,
     "metadata": {},
     "output_type": "execute_result"
    }
   ],
   "source": [
    "cosign_distance2"
   ]
  },
  {
   "cell_type": "code",
   "execution_count": null,
   "id": "47dc0a0b",
   "metadata": {},
   "outputs": [],
   "source": [
    "dist - data 1 and data2 - 0.0.44568355460644316\n",
    "dist data1 data 3 - .0.17048938029524152"
   ]
  },
  {
   "cell_type": "code",
   "execution_count": null,
   "id": "3b484dd6",
   "metadata": {},
   "outputs": [],
   "source": []
  }
 ],
 "metadata": {
  "kernelspec": {
   "display_name": "myenv",
   "language": "python",
   "name": "python3"
  },
  "language_info": {
   "codemirror_mode": {
    "name": "ipython",
    "version": 3
   },
   "file_extension": ".py",
   "mimetype": "text/x-python",
   "name": "python",
   "nbconvert_exporter": "python",
   "pygments_lexer": "ipython3",
   "version": "3.11.11"
  }
 },
 "nbformat": 4,
 "nbformat_minor": 5
}
